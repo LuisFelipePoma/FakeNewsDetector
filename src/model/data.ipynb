{
  "cells": [
    {
      "cell_type": "markdown",
      "metadata": {
        "id": "rh1SOqFVyuPo"
      },
      "source": [
        "# Generate and Extract Dataset"
      ]
    },
    {
      "cell_type": "markdown",
      "metadata": {
        "id": "juw3GXrVyuPp"
      },
      "source": [
        "## Load Datasets"
      ]
    },
    {
      "cell_type": "code",
      "execution_count": 1,
      "metadata": {
        "id": "_Eh75So8yuPq"
      },
      "outputs": [],
      "source": [
        "import pandas as pd\n",
        "import numpy as np"
      ]
    },
    {
      "cell_type": "code",
      "execution_count": 2,
      "metadata": {},
      "outputs": [],
      "source": [
        "DATASET = []"
      ]
    },
    {
      "cell_type": "markdown",
      "metadata": {},
      "source": [
        "- **TRUE** : `1`\n",
        "- **FAKE** : `0`"
      ]
    },
    {
      "cell_type": "markdown",
      "metadata": {},
      "source": [
        "### [Fake and real news dataset](https://www.kaggle.com/datasets/clmentbisaillon/fake-and-real-news-dataset?select=Fake.csv )"
      ]
    },
    {
      "cell_type": "code",
      "execution_count": 3,
      "metadata": {},
      "outputs": [
        {
          "name": "stdout",
          "output_type": "stream",
          "text": [
            "Requirement already satisfied: kaggle in /home/felipe/Codes/FakeNewsDetector/env/lib/python3.11/site-packages (1.5.16)\n",
            "Requirement already satisfied: bleach in /home/felipe/Codes/FakeNewsDetector/env/lib/python3.11/site-packages (from kaggle) (6.1.0)\n",
            "Requirement already satisfied: certifi in /home/felipe/Codes/FakeNewsDetector/env/lib/python3.11/site-packages (from kaggle) (2023.7.22)\n",
            "Requirement already satisfied: python-dateutil in /home/felipe/Codes/FakeNewsDetector/env/lib/python3.11/site-packages (from kaggle) (2.8.2)\n",
            "Requirement already satisfied: python-slugify in /home/felipe/Codes/FakeNewsDetector/env/lib/python3.11/site-packages (from kaggle) (8.0.1)\n",
            "Requirement already satisfied: requests in /home/felipe/Codes/FakeNewsDetector/env/lib/python3.11/site-packages (from kaggle) (2.31.0)\n",
            "Requirement already satisfied: six>=1.10 in /home/felipe/Codes/FakeNewsDetector/env/lib/python3.11/site-packages (from kaggle) (1.16.0)\n",
            "Requirement already satisfied: tqdm in /home/felipe/Codes/FakeNewsDetector/env/lib/python3.11/site-packages (from kaggle) (4.66.1)\n",
            "Requirement already satisfied: urllib3 in /home/felipe/Codes/FakeNewsDetector/env/lib/python3.11/site-packages (from kaggle) (2.0.7)\n",
            "Requirement already satisfied: webencodings in /home/felipe/Codes/FakeNewsDetector/env/lib/python3.11/site-packages (from bleach->kaggle) (0.5.1)\n",
            "Requirement already satisfied: text-unidecode>=1.3 in /home/felipe/Codes/FakeNewsDetector/env/lib/python3.11/site-packages (from python-slugify->kaggle) (1.3)\n",
            "Requirement already satisfied: charset-normalizer<4,>=2 in /home/felipe/Codes/FakeNewsDetector/env/lib/python3.11/site-packages (from requests->kaggle) (3.3.2)\n",
            "Requirement already satisfied: idna<4,>=2.5 in /home/felipe/Codes/FakeNewsDetector/env/lib/python3.11/site-packages (from requests->kaggle) (3.4)\n",
            "Note: you may need to restart the kernel to use updated packages.\n",
            "mkdir: cannot create directory ‘/home/felipe/.kaggle’: File exists\n",
            "chmod: cannot access '/root/.kaggle/kaggle.json': Permission denied\n",
            "Warning: Your Kaggle API key is readable by other users on this system! To fix this, you can run 'chmod 600 /home/felipe/.kaggle/kaggle.json'\n",
            "Downloading fake-and-real-news-dataset.zip to /home/felipe/Codes/FakeNewsDetector/src/model\n",
            "100%|██████████████████████████████████████| 41.0M/41.0M [00:02<00:00, 26.5MB/s]\n",
            "100%|██████████████████████████████████████| 41.0M/41.0M [00:02<00:00, 19.4MB/s]\n",
            "Archive:  fake-and-real-news-dataset.zip\n",
            "  inflating: Fake.csv                \n",
            "  inflating: True.csv                \n"
          ]
        }
      ],
      "source": [
        "# Download the dataset\n",
        "%pip install kaggle\n",
        "! mkdir ~/.kaggle\n",
        "! cp kaggle.json ~/.kaggle/\n",
        "!chmod 600 /root/.kaggle/kaggle.json\n",
        "!kaggle datasets download -d clmentbisaillon/fake-and-real-news-dataset\n",
        "!unzip \"fake-and-real-news-dataset.zip\"\n",
        "!rm \"fake-and-real-news-dataset.zip\""
      ]
    },
    {
      "cell_type": "code",
      "execution_count": 4,
      "metadata": {},
      "outputs": [
        {
          "data": {
            "text/html": [
              "<div>\n",
              "<style scoped>\n",
              "    .dataframe tbody tr th:only-of-type {\n",
              "        vertical-align: middle;\n",
              "    }\n",
              "\n",
              "    .dataframe tbody tr th {\n",
              "        vertical-align: top;\n",
              "    }\n",
              "\n",
              "    .dataframe thead th {\n",
              "        text-align: right;\n",
              "    }\n",
              "</style>\n",
              "<table border=\"1\" class=\"dataframe\">\n",
              "  <thead>\n",
              "    <tr style=\"text-align: right;\">\n",
              "      <th></th>\n",
              "      <th>features</th>\n",
              "      <th>label</th>\n",
              "    </tr>\n",
              "  </thead>\n",
              "  <tbody>\n",
              "    <tr>\n",
              "      <th>0</th>\n",
              "      <td>As U.S. budget fight looms, Republicans flip t...</td>\n",
              "      <td>1</td>\n",
              "    </tr>\n",
              "    <tr>\n",
              "      <th>1</th>\n",
              "      <td>U.S. military to accept transgender recruits o...</td>\n",
              "      <td>1</td>\n",
              "    </tr>\n",
              "    <tr>\n",
              "      <th>2</th>\n",
              "      <td>Senior U.S. Republican senator: 'Let Mr. Muell...</td>\n",
              "      <td>1</td>\n",
              "    </tr>\n",
              "    <tr>\n",
              "      <th>3</th>\n",
              "      <td>FBI Russia probe helped by Australian diplomat...</td>\n",
              "      <td>1</td>\n",
              "    </tr>\n",
              "    <tr>\n",
              "      <th>4</th>\n",
              "      <td>Trump wants Postal Service to charge 'much mor...</td>\n",
              "      <td>1</td>\n",
              "    </tr>\n",
              "  </tbody>\n",
              "</table>\n",
              "</div>"
            ],
            "text/plain": [
              "                                            features  label\n",
              "0  As U.S. budget fight looms, Republicans flip t...      1\n",
              "1  U.S. military to accept transgender recruits o...      1\n",
              "2  Senior U.S. Republican senator: 'Let Mr. Muell...      1\n",
              "3  FBI Russia probe helped by Australian diplomat...      1\n",
              "4  Trump wants Postal Service to charge 'much mor...      1"
            ]
          },
          "execution_count": 4,
          "metadata": {},
          "output_type": "execute_result"
        }
      ],
      "source": [
        "# Read the dataset of the True\n",
        "df = pd.read_csv(\"True.csv\")\n",
        "# Standardize the dataset\n",
        "df[\"features\"] = df[\"title\"] + \" \" + df[\"text\"]\n",
        "df[\"label\"] = 1\n",
        "df.drop([\"title\", \"text\", \"subject\", \"date\"], axis=1, inplace=True)\n",
        "# Add the dataset to the list\n",
        "DATASET.append(df)\n",
        "# Show\n",
        "df.head(5)"
      ]
    },
    {
      "cell_type": "code",
      "execution_count": null,
      "metadata": {},
      "outputs": [],
      "source": [
        "df[\"features\"][7]"
      ]
    },
    {
      "cell_type": "code",
      "execution_count": null,
      "metadata": {},
      "outputs": [],
      "source": [
        "df[df[\"features\"].str.contains('bit.ly')]"
      ]
    },
    {
      "cell_type": "code",
      "execution_count": 5,
      "metadata": {},
      "outputs": [
        {
          "data": {
            "text/html": [
              "<div>\n",
              "<style scoped>\n",
              "    .dataframe tbody tr th:only-of-type {\n",
              "        vertical-align: middle;\n",
              "    }\n",
              "\n",
              "    .dataframe tbody tr th {\n",
              "        vertical-align: top;\n",
              "    }\n",
              "\n",
              "    .dataframe thead th {\n",
              "        text-align: right;\n",
              "    }\n",
              "</style>\n",
              "<table border=\"1\" class=\"dataframe\">\n",
              "  <thead>\n",
              "    <tr style=\"text-align: right;\">\n",
              "      <th></th>\n",
              "      <th>features</th>\n",
              "      <th>label</th>\n",
              "    </tr>\n",
              "  </thead>\n",
              "  <tbody>\n",
              "    <tr>\n",
              "      <th>0</th>\n",
              "      <td>Donald Trump Sends Out Embarrassing New Year’...</td>\n",
              "      <td>0</td>\n",
              "    </tr>\n",
              "    <tr>\n",
              "      <th>1</th>\n",
              "      <td>Drunk Bragging Trump Staffer Started Russian ...</td>\n",
              "      <td>0</td>\n",
              "    </tr>\n",
              "    <tr>\n",
              "      <th>2</th>\n",
              "      <td>Sheriff David Clarke Becomes An Internet Joke...</td>\n",
              "      <td>0</td>\n",
              "    </tr>\n",
              "    <tr>\n",
              "      <th>3</th>\n",
              "      <td>Trump Is So Obsessed He Even Has Obama’s Name...</td>\n",
              "      <td>0</td>\n",
              "    </tr>\n",
              "    <tr>\n",
              "      <th>4</th>\n",
              "      <td>Pope Francis Just Called Out Donald Trump Dur...</td>\n",
              "      <td>0</td>\n",
              "    </tr>\n",
              "  </tbody>\n",
              "</table>\n",
              "</div>"
            ],
            "text/plain": [
              "                                            features  label\n",
              "0   Donald Trump Sends Out Embarrassing New Year’...      0\n",
              "1   Drunk Bragging Trump Staffer Started Russian ...      0\n",
              "2   Sheriff David Clarke Becomes An Internet Joke...      0\n",
              "3   Trump Is So Obsessed He Even Has Obama’s Name...      0\n",
              "4   Pope Francis Just Called Out Donald Trump Dur...      0"
            ]
          },
          "execution_count": 5,
          "metadata": {},
          "output_type": "execute_result"
        }
      ],
      "source": [
        "# Read the dataset of the True\n",
        "df = pd.read_csv(\"Fake.csv\")\n",
        "# Standardize the dataset\n",
        "df[\"features\"] = df[\"title\"] + \" \" + df[\"text\"]\n",
        "df[\"label\"] = 0\n",
        "df.drop([\"title\", \"text\", \"subject\", \"date\"], axis=1, inplace=True)\n",
        "# Add the dataset to the list\n",
        "DATASET.append(df)\n",
        "# Show\n",
        "df.head(5)"
      ]
    },
    {
      "cell_type": "code",
      "execution_count": null,
      "metadata": {},
      "outputs": [],
      "source": [
        "df[\"features\"][0]"
      ]
    },
    {
      "cell_type": "code",
      "execution_count": null,
      "metadata": {},
      "outputs": [],
      "source": [
        "df[df[\"features\"].str.contains('www.')]"
      ]
    },
    {
      "cell_type": "code",
      "execution_count": 6,
      "metadata": {},
      "outputs": [],
      "source": [
        "!rm *.csv"
      ]
    },
    {
      "cell_type": "markdown",
      "metadata": {},
      "source": [
        "### [Fake News Dataset](https://data.mendeley.com/datasets/945z9xkc8d/1)"
      ]
    },
    {
      "cell_type": "code",
      "execution_count": null,
      "metadata": {},
      "outputs": [],
      "source": [
        "import os\n",
        "!curl -L \"https://prod-dcd-datasets-cache-zipfiles.s3.eu-west-1.amazonaws.com/945z9xkc8d-1.zip\" -o data.zip\n",
        "!unzip \"data.zip\" && unzip \"Fake News Dataset.zip\"\n",
        "!rm -r *.zip\n",
        "\n",
        "main_directory = os.path.join(os.getcwd(),\"Fake News Dataset\")\n",
        "subdirectories = [x[0] for x in os.walk(main_directory)][1:]\n",
        "print(main_directory)\n",
        "dataframes = []\n",
        "test = []\n",
        "# Itera a través de los subdirectorios y archivos train.csv\n",
        "for subdirectory in subdirectories:\n",
        "    file_path = os.path.join(subdirectory, \"train.csv\")\n",
        "    test_path = os.path.join(subdirectory, \"test.csv\")\n",
        "\n",
        "    # Verifica si el archivo train.csv existe en el subdirectorio\n",
        "    if os.path.exists(file_path):\n",
        "        data = pd.read_csv(file_path)\n",
        "        dataframes.append(data)\n",
        "\n",
        "    if os.path.exists(test_path):\n",
        "        data = pd.read_csv(test_path)\n",
        "        test.append(data)\n",
        "\n",
        "# Combina los DataFrames en uno solo\n",
        "train_data = pd.concat(dataframes, ignore_index=True)\n",
        "test_data = pd.concat(test,ignore_index=True)\n",
        "!rm -r \"Fake News Dataset\"\n",
        "# Guarda el DataFrame combinado en un archivo train_combined.csv\n",
        "train_data.to_csv(\"train.csv\", index=False)\n",
        "test_data.to_csv(\"test.csv\", index=False)"
      ]
    },
    {
      "cell_type": "markdown",
      "metadata": {},
      "source": [
        "### [GonzaloA/fake_news](https://huggingface.co/datasets/GonzaloA/fake_news)"
      ]
    },
    {
      "cell_type": "code",
      "execution_count": null,
      "metadata": {},
      "outputs": [],
      "source": [
        "# Download the dataset\n",
        "!curl -L \"https://huggingface.co/datasets/GonzaloA/fake_news/resolve/refs%2Fconvert%2Fparquet/default/train/0000.parquet\" -o 0.parquet"
      ]
    },
    {
      "cell_type": "code",
      "execution_count": null,
      "metadata": {},
      "outputs": [],
      "source": [
        "# Read the Dataset\n",
        "df = pd.read_parquet(\"0.parquet\")\n",
        "# Standardize the dataset\n",
        "df[\"features\"] = df[\"title\"] + \" \" + df[\"text\"]\n",
        "df.drop([\"title\", \"text\", \"Unnamed: 0\"], axis=1, inplace=True)\n",
        "df.insert(0, \"features\", df.pop(\"features\"))\n",
        "# Add the dataset to the list\n",
        "DATASET.append(df)\n",
        "# Show\n",
        "df.head(5)"
      ]
    },
    {
      "cell_type": "code",
      "execution_count": null,
      "metadata": {},
      "outputs": [],
      "source": [
        "!rm *.parquet"
      ]
    },
    {
      "cell_type": "markdown",
      "metadata": {},
      "source": [
        "### [ErfanMoosaviMonazzah/fake-news-detection-dataset-English](https://huggingface.co/datasets/ErfanMoosaviMonazzah/fake-news-detection-dataset-English)"
      ]
    },
    {
      "cell_type": "code",
      "execution_count": null,
      "metadata": {},
      "outputs": [],
      "source": [
        "# Download the dataset\n",
        "!curl -L \"https://huggingface.co/api/datasets/ErfanMoosaviMonazzah/fake-news-detection-dataset-English/parquet/default/train/0.parquet\" -o 0.parquet"
      ]
    },
    {
      "cell_type": "code",
      "execution_count": null,
      "metadata": {},
      "outputs": [],
      "source": [
        "# Read the Dataset\n",
        "df = pd.read_parquet(\"0.parquet\")\n",
        "# Standardize the dataset\n",
        "df[\"features\"] = df[\"title\"] + \" \" + df[\"text\"]\n",
        "df.drop([\"title\", \"text\", \"Unnamed: 0\", \"date\", \"subject\"], axis=1, inplace=True)\n",
        "df.insert(0, \"features\", df.pop(\"features\"))\n",
        "# Add the dataset to the list\n",
        "DATASET.append(df)\n",
        "# Show\n",
        "df.head(5)"
      ]
    },
    {
      "cell_type": "code",
      "execution_count": null,
      "metadata": {},
      "outputs": [],
      "source": [
        "!rm *.parquet"
      ]
    },
    {
      "cell_type": "markdown",
      "metadata": {},
      "source": [
        "### [mohammadjavadpirhadi/fake-news-detection-dataset-english](https://huggingface.co/datasets/mohammadjavadpirhadi/fake-news-detection-dataset-english)"
      ]
    },
    {
      "cell_type": "code",
      "execution_count": null,
      "metadata": {},
      "outputs": [],
      "source": [
        "!curl -L \"https://huggingface.co/api/datasets/mohammadjavadpirhadi/fake-news-detection-dataset-english/parquet/default/train/0.parquet\" -o 0.parquet"
      ]
    },
    {
      "cell_type": "code",
      "execution_count": null,
      "metadata": {},
      "outputs": [],
      "source": [
        "# Read the Dataset\n",
        "df = pd.read_parquet(\"0.parquet\")\n",
        "# Standardize the dataset\n",
        "df[\"features\"] = df[\"title\"] + \" \" + df[\"text\"]\n",
        "df.drop([\"title\", \"text\", \"date\", \"subject\"], axis=1, inplace=True)\n",
        "df.insert(0, \"features\", df.pop(\"features\"))\n",
        "df[\"label\"] = df[\"label\"].apply(lambda x: 1 if x == 0 else 0)\n",
        "\n",
        "# Add the dataset to the list\n",
        "DATASET.append(df)\n",
        "# Show\n",
        "df.head(5)"
      ]
    },
    {
      "cell_type": "code",
      "execution_count": null,
      "metadata": {},
      "outputs": [],
      "source": [
        "!rm *.parquet"
      ]
    },
    {
      "cell_type": "markdown",
      "metadata": {},
      "source": [
        "### [pushpdeep/fake_news_combined](https://huggingface.co/datasets/pushpdeep/fake_news_combined)"
      ]
    },
    {
      "cell_type": "code",
      "execution_count": null,
      "metadata": {},
      "outputs": [],
      "source": [
        "!curl -L \"https://huggingface.co/api/datasets/pushpdeep/fake_news_combined/parquet/default/train/0.parquet\" -o 0.parquet"
      ]
    },
    {
      "cell_type": "code",
      "execution_count": null,
      "metadata": {},
      "outputs": [],
      "source": [
        "# Read the Dataset\n",
        "df = pd.read_parquet(\"0.parquet\")\n",
        "# Standardize the dataset\n",
        "df[\"features\"] = df[\"text\"]\n",
        "df.drop([\"Unnamed: 0\", \"text\"], axis=1, inplace=True)\n",
        "df.insert(0, \"features\", df.pop(\"features\"))\n",
        "\n",
        "# # Add the dataset to the list\n",
        "DATASET.append(df)\n",
        "# Show\n",
        "df.head(5)"
      ]
    },
    {
      "cell_type": "code",
      "execution_count": null,
      "metadata": {},
      "outputs": [],
      "source": [
        "!rm *.parquet"
      ]
    },
    {
      "cell_type": "markdown",
      "metadata": {},
      "source": [
        "### [argilla/news-fakenews](https://huggingface.co/datasets/argilla/news-fakenews)"
      ]
    },
    {
      "cell_type": "code",
      "execution_count": null,
      "metadata": {},
      "outputs": [],
      "source": [
        "!curl -L \"https://huggingface.co/api/datasets/argilla/news-fakenews/parquet/default/train/0.parquet\" -o 0.parquet"
      ]
    },
    {
      "cell_type": "code",
      "execution_count": null,
      "metadata": {},
      "outputs": [],
      "source": [
        "# Read the Dataset\n",
        "df = pd.read_parquet(\"0.parquet\")\n",
        "# Standardize the dataset\n",
        "df = df[[\"text\",\"prediction\"]]\n",
        "df = df[df[\"text\"] != ' ']\n",
        "df[\"prediction\"] = df[\"prediction\"].apply(lambda x: 1 if x[0][\"label\"] == 'real' else 0)\n",
        "df.columns = [\"features\", \"label\"]\n",
        "# Add the dataset to the list\n",
        "DATASET.append(df)\n",
        "# Show\n",
        "df.head(5)"
      ]
    },
    {
      "cell_type": "code",
      "execution_count": null,
      "metadata": {},
      "outputs": [],
      "source": [
        "!rm *.parquet"
      ]
    },
    {
      "cell_type": "markdown",
      "metadata": {},
      "source": [
        "### Join all the data"
      ]
    },
    {
      "cell_type": "code",
      "execution_count": 7,
      "metadata": {},
      "outputs": [],
      "source": [
        "df = pd.concat(DATASET, ignore_index=True)\n",
        "df = df.sample(frac=1).reset_index(drop=True) # Shuffle the dataset\n",
        "df.to_csv(\"train.csv\", index=False)\n",
        "del DATASET"
      ]
    },
    {
      "cell_type": "markdown",
      "metadata": {
        "id": "BPOjdos8yuPr"
      },
      "source": [
        "## Inspeccionar datos"
      ]
    },
    {
      "cell_type": "code",
      "execution_count": null,
      "metadata": {
        "colab": {
          "base_uri": "https://localhost:8080/",
          "height": 206
        },
        "id": "evNpSbVeyuPs",
        "outputId": "86460e6e-f786-4f72-b852-e0a929c87211"
      },
      "outputs": [],
      "source": [
        "df.head(5)"
      ]
    },
    {
      "cell_type": "code",
      "execution_count": null,
      "metadata": {
        "colab": {
          "base_uri": "https://localhost:8080/"
        },
        "id": "OmuowRWiyuPs",
        "outputId": "48ea296c-4a30-4779-89f8-20af101eae22"
      },
      "outputs": [],
      "source": [
        "df.info()"
      ]
    },
    {
      "cell_type": "markdown",
      "metadata": {
        "id": "-1nzgnNQyuPt"
      },
      "source": [
        "# Visualizacion del Dataset"
      ]
    },
    {
      "cell_type": "markdown",
      "metadata": {
        "id": "F2TSLYt9yuPt"
      },
      "source": [
        "## Dataset Balanceado"
      ]
    },
    {
      "cell_type": "code",
      "execution_count": null,
      "metadata": {
        "colab": {
          "base_uri": "https://localhost:8080/",
          "height": 546
        },
        "id": "vfwsz02syuPt",
        "outputId": "00a41b7b-ad6a-48bb-a149-24d040cda8ff"
      },
      "outputs": [],
      "source": [
        "## Librerias para graficación\n",
        "import matplotlib.pyplot as plt\n",
        "import seaborn as sns\n",
        "\n",
        "# Visualizamos si la data esta balanceada\n",
        "sns.catplot(x=\"label\", kind=\"count\", color=\"r\", data=df)\n",
        "plt.title(\"Distribución de Clasificación\")\n",
        "plt.xlabel(\"is True\")\n",
        "plt.ylabel(\"Conteo\")"
      ]
    },
    {
      "cell_type": "markdown",
      "metadata": {
        "id": "_q19AWaRyuPt"
      },
      "source": [
        "## Word Cloud de los titulares de las *Fake News*"
      ]
    },
    {
      "cell_type": "code",
      "execution_count": null,
      "metadata": {
        "colab": {
          "base_uri": "https://localhost:8080/",
          "height": 836
        },
        "id": "hFcVvnP8yuPt",
        "outputId": "c2257bad-f995-4326-eabe-da326ddc2bff"
      },
      "outputs": [],
      "source": [
        "# importing all necessary modules\n",
        "from wordcloud import WordCloud, STOPWORDS\n",
        "comment_words = \"\"\n",
        "stopwords = set(STOPWORDS)\n",
        "# Recorrer el dataframe\n",
        "for val in df[df[\"label\"] == 0][\"features\"][:100]:\n",
        "    # Castear cada palabra a string\n",
        "    val = str(val)\n",
        "    # Separamos por palabra\n",
        "    tokens = val.split()\n",
        "    # Pasamos a minusculas\n",
        "    for i in range(len(tokens)):\n",
        "        tokens[i] = tokens[i].lower()\n",
        "    comment_words += \" \".join(tokens) + \" \"\n",
        "wordcloud = WordCloud(\n",
        "    width=800,\n",
        "    height=800,\n",
        "    background_color=\"white\",\n",
        "    stopwords=stopwords,\n",
        "    min_font_size=10,\n",
        ").generate(comment_words)\n",
        "# Generamos el plot\n",
        "plt.figure(figsize=(8, 8), facecolor=None)\n",
        "plt.imshow(wordcloud)\n",
        "plt.axis(\"off\")\n",
        "plt.tight_layout(pad=0)\n",
        "plt.show()"
      ]
    },
    {
      "cell_type": "code",
      "execution_count": null,
      "metadata": {},
      "outputs": [],
      "source": [
        "# importing all necessary modules\n",
        "from wordcloud import WordCloud, STOPWORDS\n",
        "comment_words = \"\"\n",
        "stopwords = set(STOPWORDS)\n",
        "# Recorrer el dataframe\n",
        "for val in df[df[\"label\"] == 1][\"features\"][:100]:\n",
        "    # Castear cada palabra a string\n",
        "    val = str(val)\n",
        "    # Separamos por palabra\n",
        "    tokens = val.split()\n",
        "    # Pasamos a minusculas\n",
        "    for i in range(len(tokens)):\n",
        "        tokens[i] = tokens[i].lower()\n",
        "    comment_words += \" \".join(tokens) + \" \"\n",
        "wordcloud = WordCloud(\n",
        "    width=800,\n",
        "    height=800,\n",
        "    background_color=\"white\",\n",
        "    stopwords=stopwords,\n",
        "    min_font_size=10,\n",
        ").generate(comment_words)\n",
        "# Generamos el plot\n",
        "plt.figure(figsize=(8, 8), facecolor=None)\n",
        "plt.imshow(wordcloud)\n",
        "plt.axis(\"off\")\n",
        "plt.tight_layout(pad=0)\n",
        "plt.show()"
      ]
    },
    {
      "cell_type": "markdown",
      "metadata": {
        "id": "b31APXRLyuPu"
      },
      "source": [
        "# Pre-Procesado de los datos para NLP"
      ]
    },
    {
      "cell_type": "code",
      "execution_count": null,
      "metadata": {},
      "outputs": [],
      "source": [
        "df = pd.read_csv(\"train.csv\")\n",
        "\n",
        "# shuffle data\n",
        "df = df.sample(frac=1).reset_index(drop=True)"
      ]
    },
    {
      "cell_type": "code",
      "execution_count": null,
      "metadata": {},
      "outputs": [],
      "source": [
        "# df.columns = [\"features\", \"label\"]"
      ]
    },
    {
      "cell_type": "code",
      "execution_count": 51,
      "metadata": {},
      "outputs": [
        {
          "data": {
            "text/plain": [
              "'fed republican threaten third party option trump nominee saying long time republican party verge splitting right sort always assumed establishment would control party iron fist tea party white supremacist would abandon gop form white power party rise donald trump look like establishment going abandon party run candidate raving sociopathspurred donald trump mounting victory small influential growing group conservative leader calling thirdparty option spare voter wrenching general election choice republican consider completely unacceptable hillary clintonwhile gained intense popularity right mr trump alienated key bloc republican coalition slashandburn campaign many initial refusal last weekend disavow endorsement david duke white supremacist breaking point breaking point as problem conservative leader trump racism overt nature republican relied white resentment year win election keep concealed lest get publicly torn apart party old white racist corporate medium happy promote fiction trump making impossible real problem republican trump uncontrollable buffoon unlike george bush perfect puppet manipulatebut think moment conservative movement appalled frontrunner going deliberately sabotage party keep trump office lunatic officially taken control asylumwilliam kristol editor conservative weekly standard magazine said would work actively put forward independent republican ticket mr trump nominee floated mr sasse recruit ticket would simply onetime emergency adjustment unfortunate circumstance happens trump nomination mr kristol wrote email would support republican running congress office would allow voter correct temporary mistake make nominating trump kristol many thing stupid one know full well running another conservative would hand election democratic nominee silver platter fact presumptive nominee hillary clinton hated woman conservative world even seem factormax boot foreign policy adviser senator marco rubio florida said effort block mr trump fell short would vote republican nominee first time life would sooner vote josef stalin would vote donald trump said mr boot expressed optimism mr trump could still defeated added way hell would ever vote would far readily support hillary clinton bloomberg ran wonder frothing mass hillary clinton hating liberal take kind news one precious narrative trump easily beat clinton republican hate anything therefor allowed nominee much myth also true first placedefections scale could prove lethal mr trump already trail mr clinton general election poll polling already show possibility mass desertion party cnnopinion research corporation survey week found percent republican already back mr trump said would probably definitely support novemberwhen asked possibility revolt notcompletelyinsane wing party trump replied typical th grade eloquence lose everything would work loser oddly third party would actually hurt democrat general election would deliver white house ease would bring voter would otherwise stayed home disgust would almost certainly vote ticket making senate house local election harder win democratic candidate hand would represent schism republican party might able recover hard know cheering plan notfeatured image via caglecom cdata cdata cdata cdata cdata functionvar hthisaafunctionavar btypeof aifquotobjectquotbifaifa instanceof arrayreturnquotarrayquotifa instanceof objectreturn bvar cobjectprototypetostringcallaifquotobject windowquotcreturnquotobjectquotifquotobject arrayquotcquotnumberquottypeof alengthampampquotundefinedquottypeof aspliceampampquotundefinedquottypeof apropertyisenumerableampampapropertyisenumerablequotsplicequotreturnquotarrayquotifquotobject functionquotcquotundefinedquottypeof acallampampquotundefinedquottypeof apropertyisenumerableampampapropertyisenumerablequotcallquotreturnquotfunctionquotelse returnquotnullquotelse ifquotfunctionquotbampampquotundefinedquottypeof acallreturnquotobjectquotreturn bkfunctionareturnquotstringquottypeof abafunctionabvar carrayprototypeslicecallarguments return functionvar bcslicebpushapplybargumentsreturn aapplythisbmdatenowfunctionreturnnew datenfunctionabvar casplitquotquotdhc ddexecscriptdexecscriptquotvar quotc forvar eclengthampampecshiftclengthvoid bddedededebvar cafunctionabcdeifecaquotampquotbquotquotcelsevar fquotampquotbquotquotgaindexoff gcafcgflengthfaindexofquotampquotgc fasubstring gcasubstringfasubstring gcreturn clengthvoid dcaabdvoid eacvar dafunctionvar aampexkamp execplocationhrefreturn aampamp alengtha nullvar qfunctionabthiswidthathisheightbqprototypeclonefunctionreturn new qthiswidththisheightqprototypeceilfunctionthiswidthmathceilthiswidththisheightmathceilthisheightreturn thisqprototypefloorfunctionthiswidthmathfloorthiswidththisheightmathfloorthisheightreturn thisqprototyperoundfunctionthiswidthmathroundthiswidththisheightmathroundthisheightreturn thisqprototypescalefunctionabthiswidthathisheightquotnumberquottypeof bbareturn thisvar eafunctionabforvar aobjectprototypehasownpropertycallacampampbcallvoid accagafunctionvar afaifareturnquotquotvar bampgoogledebugampamptryvar cbexecdecodeuricomponentaifcreturn ampamp lengthc substring quottruequotcatchdreturnquotquotvar hafunctionabcdaaddeventlisteneraaddeventlistenerbcd aattacheventampampaattacheventquotonquotbcvar iafunctionabvar ceaafunctionaevar fnullgtypeof aifquotobjectquotgampampnullaquotfunctionquotgampamp bfiaab else aafstringafampampcpushequotquotencodeuricomponentfreturn cjoinquotampquotrfunctionabcagoogleimagerequestsagoogleimagerequestsvar dadocumentcreateelementquotimgquotifcvar efunctionacaaedremoveeventlistenerdremoveeventlistenerquotloadquota ddetacheventampampddetacheventquotonloadquotaaedremoveeventlistenerdremoveeventlistenerquoterrorquota ddetacheventampampddetacheventquotonerrorquotahadquotloadquotehadquoterrorquotedsrcbagoogleimagerequestspushdvar jafunctionabcthisvathisubthisccthisfnullthissthisgthisa kafunctionabcthismessageathisfilenamebquotquotthislinenumberc mafunctionabcvar dtrydccatchgvar eactryvar flageascallabfvoid void catchlagquotparquotlifethrow gfinallyreturn dtfunctionabvar cnareturn functionvar dargumentsreturn macafunctionreturn bapplyvoid djaprototypegfunctionabcdevar ffcontextab instanceof kablabfmsgbmessagesubstring bfilenameampampffilebfilename linenumberampampflineblinenumbertostringahdocumentfurlaurlsubstring frefareferrersubstring ifthisftrythisffcatchlifdtrydfcatchldthisvtryifthisadwmathrandomcdovar gdmethisuquotampquotiaf ggsubstring rhgcatchlreturn thiscvar lafunctionavar batostringanameampamp bindexofanameampampbquot quotanameamessageampamp bindexofamessageampampbquot quotamessageifastackvar castackdbtry cindexofdampampcdquotnquotcforvar eceecccreplacehttpsdn quot quotbcreplacen gquotnquotcatchfbdreturn new kabafilenamealinenumbervar oastringprototypetrimfunctionareturn atrimfunctionareturn areplacesu su gquotquotpafunctionabreturn ab ab var qaarrayprototypeindexoffunctionabcreturn arrayprototypeindexofcallabcfunctionabccnullc cmathmax alengthccifkareturn kbampamp blengthaindexofbc forca lengthcifc aampampacbreturn creturn raarrayprototypemapfunctionabcreturn arrayprototypemapcallabcfunctionabcforvar dalengthearraydfkaasplitquotquotag gdgg fampampegbcallcfggareturn evar safunctionabforvar abcallvoid accavar vavar tahnavigatoriftavar uatauseragentifuavuabreak avquotquotvar wfunctionareturn vindexofavar xfunctionreturn wquotoperaquotwquotoprquotvafunctionreturnwquotchromequotwquotcriosquotampampxampampwquotedgequotvar wafunctionreturn wquotiphonequotampampwquotipodquotampampwquotipadquotvar xaxywquottridentquotwquotmsiequotyawquotedgequotzwquotgeckoquotampamp vtolowercaseindexofquotwebkitquotampampwquotedgequotampampwquottridentquotwquotmsiequotampampwquotedgequotza vtolowercaseindexofquotwebkitquotampampwquotedgequotaafunctionvar ahdocumentreturn aadocumentmodevoid baavar caquotquotdafunctionvar avifzreturnrvexecaifyareturnedgedexecaifyreturnbmsierv execaifzareturnwebkitsexecaifxareturnversion sexecadaampampcadada quotquotifyvar eaaaifnulleaampampeaparsefloatcabastringeabreak abacavar fabagaafunctionavar bifbgaab forvar coastringfasplitquotquotdoastringasplitquotquotemathmaxclengthdlengthf bampampfe fvar gcfquotquotldfquotquotsregexpquotddquotquotgquoturegexpquotddquotquotgquotdovar ksexecgquotquotquotquotquotquotluexeclquotquotquotquotquotquotif lengthampamp lengthbreakbpa length parseintk length parseintl pa length lengthpak bbgaa breturn bhahdocumentiahaampampyaaquotcss compatquothacompatmodeparseintfa void zampampyyampamp numberiazampampaquot quotyampampaquot quotvar bdocumentpwindowvar cnulljafunctionifbbodyreturn ifcvar abcreateelementquotiframequotastyledisplayquotnonequotaidquotanoniframequotcabbodyappendchildareturn var nananew janew functionthismquothttpquotquothttpquotplocationprotocolquotquotquotsquotquotpagead googlesyndicationcompageadgen idquotthiso thiswmathrandomquotjserrorquot var dfunctionabreturn tabyampampaquot quotzaaquot quotzampampaquot bquotyampampaquot quotxaampampaquot quotzaampampaquot quotzampampaquot quotyampampaquot quotvar kafunctionabcifquotarrayquotaabforvar dblengthdkaastringbdcelse nullbampampcpushquotampquotaquotquotbquotquotquotquotencodeuricomponentstringblafunctionabcforcc cblengthc kabcbc areturn amafunctionabvar argumentslengthlaaarguments laaarguments ifc var dc edindexofquotquot eampampcpushdsubstrec ddsubstr eedindexofquotquot ec quotquotedlength ampampc void return cjoinquotquotvar na epafunctionavar beimageloadingenabledifnullbabelsevar oafunctionbedelete eecc nulleimageloadingenabledeimageloadingenabledbaboafunctionavar bnew imagecdquotquotnaedbbonloadfunctioncleartimeoutca dcsettimeoutfunctiona bsrcquotdataimagegifbase lgodlhaqabaiaaapwaaach baeaaaaalaaaaaabaaeaaaicraeaowquotqafunctionaifavar bdocumentcreateelementquotobjectquotbdataabwidth bheight bstylevisibilityquothiddenquotvar cquotquotnaecbbonloadbonerrorfunctiondelete ecdocumentbodyappendchildbrafunctionaifavar bnew imagecquotquotnaecbbonloadbonerrorfunctiondelete ecbsrcasafunctionaaampamppafunctionbbraaqaavar talquotud quotjquotts quotbquotsc quothquotgz quotiquotop quotifbampampburlvar faburluafaampamp ga lengthnacuavar ffunctionabcdhaabtdquotosdorlidarquotbcvoid vafunctionabcif bvar efunctionaddb ampamppsettimeouttce evar gfunctionabthisba thisabquotquothfunctionababampampb abaaampampb aagprototypematchfunctionareturnthisbthisaampampabaathisaaathisaaathisbabthisbab gprototypetostringfunctionvar aquotquotthisbthisaampampaquotquotthisareturn avar wafunctionvar aibabampampbpushquotadkquotabaaampampbpushquotexkquotaareturn bjfunctionavar bsaafunctionadvar eencodeuricomponentdfakfampampfencodeuricomponentfbpushequotquotfreturn bjoinquotnquotm xa yafunctionavar cptryifcampampcgoogadsensegetadadapterinstancereturn ccatchdforcampamp btryifcgoogleosdstaticframereturn ccatchdtryifcaswift ampampacaswift googleosdstaticframereturn caswift catchdbcccparentcparentnullreturn nullzafunctionabcdeif xa pclearintervalmelse ifxappostmessageampampbbbavar fya iffvar ghbgg quotgoogrequestmonitoringquotg ag cdampampdlengthampampg djoinquotquoteampampg etryvar ljgfpostmessagelquotquotcatchsafunctionavar bya cbbampamppampampbpparentifbampampbpostmessagetrybpostmessageaquotquotcampampppostmessageaquotquotcatchdvar ofunctionaifaamatchdgalength functionifnavigatorpluginsampampnavigatorpluginslengthvar anavigatorpluginsquotshockwave flashquotifaampampn adescriptionoadescriptionreturnifnavigatorpluginsquotshockwave flash quotn returnifnavigatormimetypesampampnavigatormimetypeslengthampampanavigatormimetypesquotapplicationxshockwaveflashquotnaampampaenabledpluginoaenabledplugindescriptionreturntryvar bnew activexobjectquotshockwaveflashshockwaveflash quotn obgetvariablequotversionquotreturncatchctrybnew activexobjectquotshockwaveflashshockwaveflash quotn returncatchctrybnew activexobjectquotshockwaveflashshockwaveflashquotn obgetvariablequotversionquotcatchcvar abwquotfirefoxquotbbwawquotipodquotcbwquotipadquotdbwquotandroidquotampampvawquotfirefoxquotxwquotsilkquotebvafbwquotsafariquotampampvawquotcoastquotxwquotedgequotwquotsilkquotwquotandroidquotampampwawquotipadquotwquotipodquotvar pfunctionareturnaaexecva quotquotfunctionifabreturn pfirefox ifyyaxareturn faifebreturn pchrome iffbampampwawquotipadquotwquotipodquotreturn pversion ifbbcbvar aversionsmobilesexecvifareturn quotquota else ifdbreturnapandroids apversion returnquotquotvar hbfunctionvar apparentampamppparentpbaampamp quottpcgooglesyndicationcomquotindexofplocationhostifaampamppnameampamp pnameindexofquotgoogleadsiframequotbvar capptryvar difadocumentampampadocumentbodydnew elsevar eawindowdocumentfquotcss compatquotecompatmodeedocumentelementebodydnew qfclientwidthfclientheightroundcdcatchgcnew return gbccpdocumentgetelementsbytagnamequotscriptquotreturn clengthampampccclength cparentelementampampcparentelementidampamp cparentelementidindexofquotadcontainerquotgbvoid cparentelementnullgbfunctionabvar cibquotimgquotabreturn ccibquotiframequotabccibquotobjectquotabcnullibfunctionabcvar ddocumentccddaampampquotquotaatouppercasequotquotccqueryselectorallampampcqueryselectorampampdcqueryselectoralldquotquotcgetelementsbytagnamedquotquotford dclengthdvar ecdifquotobjectquotaavar fegetattributequotheightquotifnullfampamp fampamp eclientheightforvar fechildreng gflengthgvar lfgifquotobjectquotlnodenamequotembedquotlnodenameelbreak afeclientheightgeclientwidthiflblnew qgflmathabsbwidthlwidth bwidthampampmathabsbheightlheight bheightiflbampamp fampamp greturn ereturn nullvar jbquotquotrt kb lb mb nb ob pb qb rb sb tbinullubquotquotvbwbnullxbyb zbquotquotabquotquotbbnew dategettimecb dbquotquoteb fbquot quotquot quotquot quotx gb hbquotquotjbfunctionabctampampkb nbampampibab ifvuampampmbibabuv kbfunctionvar awbreturn ibfunctionabcifbbubampampybampamp ycampampkbforvar drlengthdvar elbrdbcfalbsaerfevoid pb ct yb mbfunctionabvar caampampcpushquotaviquotabampampcpushquotcidquotbreturn clengthquotpagead googlesyndicationcomactiveviewquotcjoinquotampquotquotpagead googlesyndicationcomactiveviewquotlbfunctionabcccquotosdimquotvquotosd quotquotosdtosquotaa aindexofquotquotquotampidquotquotidquotcquotosd quotcampampuampampmbampampapushquotampts quotapushquotampti quotapushquotampquotbapushquotampucquotgbcbapushquotamptgtquotdbapushquotamptgtnfquotapushquotampclquoteb qbampampapushquotamplop quotbmrbapushquotamptslpquotbbajoinquotquotfora avblengthatryvar dvbacatchecquotmaxlengthquot dlengthampamp dlengthampampcd bcabencodeuricomponentd encodeuricomponentd blengthampampbbsubstring return bzfunctionaifzbtryvar bcazbquotviquotajaampamprccontentwindowbvoid catchc qafbaampampzbquotquotnbfunctionzquot quotpbfunctionaifaampampadataampampkadatavar bvar cadataifkcbforvar ccsplitquotnquotd dclengthdvar ecdindexofquotquotif evar fnumbercdsubstr eecdsubstre switchfcase case case case case case equottruequotebreakcase case case case case case case case enumberebreakcase case ifquotfunctionquotaadecodeuricomponenttryedecodeuricomponentecatchlthrow errorquoterror uri malformed quotebreakcase eradecodeuricomponentesplitquotquotnumberbfebb bnullelse bnullifbampampcnew gb iampampimatchcforc cxb lengthcxbcbvoid ampampnbb nb ww obcb ifquotgoogacknowledgemonitoringquotcpclearintervalmx else ifquotgooggetmodequotcx diampamphidd quotgoogprovidemodequotd yd hbd utryvar gjdasourcepostmessagegaorigincatchlpclearintervalmx elsequotgoogupdatedataquotcubb gbquotgoogimagerequestquotcampampjbpb zquot quotifquotgoogupdatedataquotcquotgoogimagerequestquotc ytampampb ampampa ampampquotgoogupdatedataquotcmb zquot quotabampampkbampampgabjaampamprccontentwindowgvoid abquotquottampampaampampibpvoid ob sbm wampampw obt yyb ytampampb ampampu zquot quottampampibpvoid wampampnbampampw obfunctionvar apbw bampamp bampampqbaquotosdimquotquotzasquotbqbfunctionabcvar djbampampdpushquotaviquotjbdpushquotidquotbdpushquotovrvaluequotqqbampampdpushquotlop quotiampampddconcatwadpushquotttquotnew dategettimebbdpushcadocumentampampadocumentreferrerampampdpushquotrefquotencodeuricomponentadocumentreferrertryraquotpagead googlesyndicationcompageadgen quotdjoinquotampquotvoid catcherbfunctionjbpzquot quot xampampuampamp yampampqbpquotosd quotquothsquotxsbfunctionvar ahiaa quotgoogdomcontentloadedquotvar bjatryvafunctionab quotosdlistenerldclintquotcatchctbfunctionvar ahiaa quotgoogcreativeloadedquotvar bjavafunctionab quotosdlistenerlcelintquoteb ubfunctionaifkaaasplitquotampquotforvar balength bbvar cabdtacdlkb aspliceb cdhw aspliceb cdju aspliceb cdiampamplb aspliceb hbajoinquotampquotvbfunctionifcbvar ahbaampampcb dbatagnameacompleteanaturalwidthtbfaquotloadquottbquotosdlistenercreativeloadquotnquotosdlfmquotdquotosdlistenerinitquotfunctionabcdefglsqazbbabdtfgampampubguf ltbpush ltbpush lampamptbpush inew gedafpquotloadquotnbquotosdlistenerloadquotfpquotmessagequotpbquotosdlistenermessagequotjbcquotquotrmbcsfpquotunloadquotrbquotosdlistenerunloadquotvar updocumentureadystatequotcompletequotureadystateampampquotloadedquotureadystatewquottridentquotwquotmsiequotfuquotreadystatechangequotfunctionquotcompletequotureadystateampampquotloadedquotureadystatesbquotosdlistenerrscquotfuquotdomcontentloadedquotsbquotosdlistenerdclquotsb qyf qy qampampy uampampvampamp qampampy iampampibiaampampx mpsetintervaltquotosdprotoreqmintquotbazayiutbhb vavb quotosdlistenersfcquotnquotosdlacquotdquotosdlistenerlacexquotfunctionavbpushanquotosdlamrcquotdquotosdlistenerlamrcexquotfunctionaxbpushanquotosdsirquottquotosdlistenersirexquotjbnquotosdacrcquotdquotosdlisteneracrcexquotfunctionawbanquotosdpclsquotdquotosdlisteneracrcexquotfunctionaifapptopybpbampampobreturn qb alastindexofquotquot ambaifobvar blbaub cmsbbmabquottsvpquotccplbsabrcbvoid rpusharbmreturn callthisosdlfm blvkkfh yvvnkisd ahw iaibgaaaaaqatgbyaejwaic aia aqboayf trueudu lau gg lxzr brcxjnvuu cfvoemi gtxbxabgaeab gt'"
            ]
          },
          "execution_count": 51,
          "metadata": {},
          "output_type": "execute_result"
        }
      ],
      "source": [
        "df[\"features\"][18043]"
      ]
    },
    {
      "cell_type": "code",
      "execution_count": 50,
      "metadata": {},
      "outputs": [
        {
          "data": {
            "text/html": [
              "<div>\n",
              "<style scoped>\n",
              "    .dataframe tbody tr th:only-of-type {\n",
              "        vertical-align: middle;\n",
              "    }\n",
              "\n",
              "    .dataframe tbody tr th {\n",
              "        vertical-align: top;\n",
              "    }\n",
              "\n",
              "    .dataframe thead th {\n",
              "        text-align: right;\n",
              "    }\n",
              "</style>\n",
              "<table border=\"1\" class=\"dataframe\">\n",
              "  <thead>\n",
              "    <tr style=\"text-align: right;\">\n",
              "      <th></th>\n",
              "      <th>features</th>\n",
              "      <th>label</th>\n",
              "    </tr>\n",
              "  </thead>\n",
              "  <tbody>\n",
              "    <tr>\n",
              "      <th>18043</th>\n",
              "      <td>fed republican threaten third party option tru...</td>\n",
              "      <td>0</td>\n",
              "    </tr>\n",
              "  </tbody>\n",
              "</table>\n",
              "</div>"
            ],
            "text/plain": [
              "                                                features  label\n",
              "18043  fed republican threaten third party option tru...      0"
            ]
          },
          "execution_count": 50,
          "metadata": {},
          "output_type": "execute_result"
        }
      ],
      "source": [
        "df[df[\"features\"].str.contains('xax')]"
      ]
    },
    {
      "cell_type": "code",
      "execution_count": 42,
      "metadata": {},
      "outputs": [],
      "source": [
        "test = processing_text(df[\"features\"][3])"
      ]
    },
    {
      "cell_type": "code",
      "execution_count": 43,
      "metadata": {},
      "outputs": [
        {
          "data": {
            "text/plain": [
              "'bernie sander crashed greedy drug company stock one tweet appears former democratic presidential candidate senator bernie sander tanked drug company stock one tweet tweet directed towards ariad pharmaceutical ariad owns treatment chronic myeloid leukemia callediclusig ariad raised price drug four time recent historythe last time raised price drug went percent cost dollar month nearly year price hike doubled ariad sale total million dollar one quarterthe tweet sent said drug corporation greed unbelievable ariad raised price leukemia drug almost year drug corporation greed unbelievable ariad raised price leukemia drug almost year bernie sander sensanders october tweet also included link article company continual price increasesbloomberg report sander likely one staffer sent tweet ariad stock value dropped much percent one worst day company yearat time writing tweet appear gone viral compared many senator social medium posting retweets like though may change attention story sander help making issue known grows much way democratic presidential candidate hillary clinton tweet sent stock crashing biotech industry spoke price gougingpricegouging pharmaceutical industry hot button issue martin pharma bro shkreli raising price certain aid medication made turing pharmaceutical mylan jacking price epipens people raised digital equivalent torch pitchfork price increasesit important keep mind problem industry wide one study found prescription drug price skyrocketing five year drug company take part practice need called screw put public way problem going end people stand demand real change healthcare industry whole probably mean switching national health care system like every developed nation planetfeatured image alex wonggetty image tweet screenshot added'"
            ]
          },
          "execution_count": 43,
          "metadata": {},
          "output_type": "execute_result"
        }
      ],
      "source": [
        "test"
      ]
    },
    {
      "cell_type": "code",
      "execution_count": 41,
      "metadata": {},
      "outputs": [],
      "source": [
        "import re\n",
        "'''\n",
        "* processing_text\n",
        "* @param texto str\n",
        "* @return processed_feature str\n",
        "'''\n",
        "def processing_text(texto):\n",
        "    \n",
        "    # Expresión regular para encontrar enlaces\n",
        "    regex_enlaces = re.compile(r'https?://\\S+|www.\\S+', re.IGNORECASE)\n",
        "\n",
        "    # Elimina los enlaces del texto\n",
        "    processed_feature = regex_enlaces.sub('', texto)\n",
        "\n",
        "    # 1. Limpiar textos\n",
        "    processed_feature = re.sub(r'[^a-zA-Z0-9 ]', '', str(processed_feature)) # Remover con un expresión regular carateres especiales (no palabras).\n",
        "    # processed_feature = re.sub(r'\\^[a-zA-Z]\\s+', ' ', processed_feature) # Remover ocurrencias de caracteres individuales\n",
        "    processed_feature = re.sub(r'[0-9]+', ' ', processed_feature) #  Remover números (Ocurrencias muy esporádicas en nuestro dataset)\n",
        "    processed_feature = processed_feature.lower() # Pasar todo el texto a minúsculas\n",
        "    \n",
        "    # 2. Stop words & lemmatization\n",
        "    from nltk.stem import WordNetLemmatizer\n",
        "    from nltk.corpus import stopwords\n",
        "\n",
        "    lemmatizer = WordNetLemmatizer()\n",
        "    stop_words = set(stopwords.words('english'))\n",
        "\n",
        "    processed_feature = processed_feature.split()\n",
        "    processed_feature = ' '.join([lemmatizer.lemmatize(word) for word in processed_feature if word not in stop_words])\n",
        "\n",
        "    processed_feature= re.sub(r'\\b[a-zA-Z]\\b', '', processed_feature) # Remover ocurrencias de caracteres individuales\n",
        "    processed_feature = re.sub(' +', ' ', processed_feature) # Simplificar espacios concecutivos a un único espacio entre palabras\n",
        "    return processed_feature"
      ]
    },
    {
      "cell_type": "code",
      "execution_count": 44,
      "metadata": {},
      "outputs": [],
      "source": [
        "df[\"features\"] = df[\"features\"].apply(processing_text)"
      ]
    },
    {
      "cell_type": "markdown",
      "metadata": {},
      "source": [
        "# Save the data"
      ]
    },
    {
      "cell_type": "code",
      "execution_count": 45,
      "metadata": {},
      "outputs": [],
      "source": [
        "df.to_json(\"features.json\",orient='records', lines=True)"
      ]
    }
  ],
  "metadata": {
    "accelerator": "GPU",
    "colab": {
      "provenance": []
    },
    "kernelspec": {
      "display_name": "Python 3",
      "name": "python3"
    },
    "language_info": {
      "codemirror_mode": {
        "name": "ipython",
        "version": 3
      },
      "file_extension": ".py",
      "mimetype": "text/x-python",
      "name": "python",
      "nbconvert_exporter": "python",
      "pygments_lexer": "ipython3",
      "version": "3.11.2"
    }
  },
  "nbformat": 4,
  "nbformat_minor": 0
}
