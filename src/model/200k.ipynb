{
  "cells": [
    {
      "cell_type": "markdown",
      "metadata": {
        "id": "rh1SOqFVyuPo"
      },
      "source": [
        "# Generate and Extract Dataset"
      ]
    },
    {
      "cell_type": "markdown",
      "metadata": {
        "id": "juw3GXrVyuPp"
      },
      "source": [
        "## Load Datasets"
      ]
    },
    {
      "cell_type": "code",
      "execution_count": null,
      "metadata": {
        "id": "_Eh75So8yuPq"
      },
      "outputs": [],
      "source": [
        "import pandas as pd\n",
        "import numpy as np"
      ]
    },
    {
      "cell_type": "code",
      "execution_count": null,
      "metadata": {},
      "outputs": [],
      "source": [
        "DATASET = []"
      ]
    },
    {
      "cell_type": "markdown",
      "metadata": {},
      "source": [
        "- **TRUE** : `0`\n",
        "- **FAKE** : `1`"
      ]
    },
    {
      "cell_type": "markdown",
      "metadata": {},
      "source": [
        "### [Fake News Dataset](https://data.mendeley.com/datasets/945z9xkc8d/1)"
      ]
    },
    {
      "cell_type": "code",
      "execution_count": null,
      "metadata": {},
      "outputs": [],
      "source": [
        "import os\n",
        "!curl -L \"https://prod-dcd-datasets-cache-zipfiles.s3.eu-west-1.amazonaws.com/945z9xkc8d-1.zip\" -o data.zip\n",
        "!unzip \"data.zip\" && unzip \"Fake News Dataset.zip\"\n",
        "!rm -r *.zip\n",
        "\n",
        "main_directory = os.path.join(os.getcwd(),\"Fake News Dataset\")\n",
        "subdirectories = [x[0] for x in os.walk(main_directory)][1:]\n",
        "dataframes = []\n",
        "test = []\n",
        "# Itera a través de los subdirectorios y archivos train.csv\n",
        "for subdirectory in subdirectories:\n",
        "    file_path = os.path.join(subdirectory, \"train.csv\")\n",
        "    test_path = os.path.join(subdirectory, \"test.csv\")\n",
        "\n",
        "    # Verifica si el archivo train.csv existe en el subdirectorio\n",
        "    if os.path.exists(file_path):\n",
        "        data = pd.read_csv(file_path, sep=\";\")\n",
        "        dataframes.append(data)\n",
        "\n",
        "    if os.path.exists(test_path):\n",
        "        data = pd.read_csv(test_path, sep=\";\")\n",
        "        test.append(data)\n",
        "\n",
        "# Combina los DataFrames en uno solo\n",
        "columns = [\"features\",\"label\"]\n",
        "train_data = pd.concat(dataframes, ignore_index=True)\n",
        "train_data.columns = columns\n",
        "train_data['features'] = train_data['features'].str.split('http').str[0]\n",
        "train_data = train_data[train_data['features'] != \"\"]\n",
        "test_data = pd.concat(test,ignore_index=True)\n",
        "test_data.columns = columns\n",
        "test_data['features'] = test_data['features'].str.split('http').str[0]\n",
        "test_data = test_data[test_data['features'] != \"\"]\n",
        "DATASET.append(train_data)\n",
        "DATASET.append(test_data)\n",
        "\n",
        "del train_data, test_data, test, dataframes, main_directory, subdirectories"
      ]
    },
    {
      "cell_type": "markdown",
      "metadata": {},
      "source": [
        "### [ErfanMoosaviMonazzah/fake-news-detection-dataset-English](https://huggingface.co/datasets/ErfanMoosaviMonazzah/fake-news-detection-dataset-English)"
      ]
    },
    {
      "cell_type": "code",
      "execution_count": null,
      "metadata": {},
      "outputs": [],
      "source": [
        "# Download the dataset\n",
        "!curl -L \"https://huggingface.co/api/datasets/ErfanMoosaviMonazzah/fake-news-detection-dataset-English/parquet/default/train/0.parquet\" -o 0.parquet"
      ]
    },
    {
      "cell_type": "code",
      "execution_count": null,
      "metadata": {},
      "outputs": [],
      "source": [
        "# Read the Dataset\n",
        "df = pd.read_parquet(\"0.parquet\")\n",
        "# Standardize the dataset\n",
        "df[\"features\"] = df[\"title\"] + \" \" + df[\"text\"]\n",
        "df.drop([\"title\", \"text\", \"Unnamed: 0\", \"date\", \"subject\"], axis=1, inplace=True)\n",
        "df.insert(0, \"features\", df.pop(\"features\"))\n",
        "# Add the dataset to the list\n",
        "DATASET.append(df)\n",
        "# Show\n",
        "df.head(5)"
      ]
    },
    {
      "cell_type": "code",
      "execution_count": null,
      "metadata": {},
      "outputs": [],
      "source": [
        "!rm *.parquet"
      ]
    },
    {
      "cell_type": "markdown",
      "metadata": {},
      "source": [
        "### [mohammadjavadpirhadi/fake-news-detection-dataset-english](https://huggingface.co/datasets/mohammadjavadpirhadi/fake-news-detection-dataset-english)"
      ]
    },
    {
      "cell_type": "code",
      "execution_count": null,
      "metadata": {},
      "outputs": [],
      "source": [
        "!curl -L \"https://huggingface.co/api/datasets/mohammadjavadpirhadi/fake-news-detection-dataset-english/parquet/default/train/0.parquet\" -o 0.parquet"
      ]
    },
    {
      "cell_type": "code",
      "execution_count": null,
      "metadata": {},
      "outputs": [],
      "source": [
        "# Read the Dataset\n",
        "df = pd.read_parquet(\"0.parquet\")\n",
        "# Standardize the dataset\n",
        "df[\"features\"] = df[\"title\"] + \" \" + df[\"text\"]\n",
        "df.drop([\"title\", \"text\", \"date\", \"subject\"], axis=1, inplace=True)\n",
        "df.insert(0, \"features\", df.pop(\"features\"))\n",
        "df[\"label\"] = df[\"label\"].apply(lambda x: 1 if x == 0 else 0)\n",
        "\n",
        "# Add the dataset to the list\n",
        "DATASET.append(df)\n",
        "# Show\n",
        "df.head(5)"
      ]
    },
    {
      "cell_type": "code",
      "execution_count": null,
      "metadata": {},
      "outputs": [],
      "source": [
        "df[\"features\"][1]"
      ]
    },
    {
      "cell_type": "code",
      "execution_count": null,
      "metadata": {},
      "outputs": [],
      "source": [
        "df[df[\"features\"].str.contains(\"http\")]"
      ]
    },
    {
      "cell_type": "code",
      "execution_count": null,
      "metadata": {},
      "outputs": [],
      "source": [
        "!rm *.parquet"
      ]
    },
    {
      "cell_type": "markdown",
      "metadata": {},
      "source": [
        "### [pushpdeep/fake_news_combined](https://huggingface.co/datasets/pushpdeep/fake_news_combined)"
      ]
    },
    {
      "cell_type": "code",
      "execution_count": null,
      "metadata": {},
      "outputs": [],
      "source": [
        "!curl -L \"https://huggingface.co/api/datasets/pushpdeep/fake_news_combined/parquet/default/train/0.parquet\" -o 0.parquet"
      ]
    },
    {
      "cell_type": "code",
      "execution_count": null,
      "metadata": {},
      "outputs": [],
      "source": [
        "# Read the Dataset\n",
        "df = pd.read_parquet(\"0.parquet\")\n",
        "# Standardize the dataset\n",
        "df[\"features\"] = df[\"text\"]\n",
        "df.drop([\"Unnamed: 0\", \"text\"], axis=1, inplace=True)\n",
        "df.insert(0, \"features\", df.pop(\"features\"))\n",
        "\n",
        "# # Add the dataset to the list\n",
        "DATASET.append(df)\n",
        "# Show\n",
        "df.head(5)"
      ]
    },
    {
      "cell_type": "code",
      "execution_count": null,
      "metadata": {},
      "outputs": [],
      "source": [
        "!rm *.parquet"
      ]
    },
    {
      "cell_type": "markdown",
      "metadata": {},
      "source": [
        "### [argilla/news-fakenews](https://huggingface.co/datasets/argilla/news-fakenews)"
      ]
    },
    {
      "cell_type": "code",
      "execution_count": null,
      "metadata": {},
      "outputs": [],
      "source": [
        "!curl -L \"https://huggingface.co/api/datasets/argilla/news-fakenews/parquet/default/train/0.parquet\" -o 0.parquet"
      ]
    },
    {
      "cell_type": "code",
      "execution_count": null,
      "metadata": {},
      "outputs": [],
      "source": [
        "# Read the Dataset\n",
        "df = pd.read_parquet(\"0.parquet\")\n",
        "# Standardize the dataset\n",
        "df = df[[\"text\",\"prediction\"]]\n",
        "df = df[df[\"text\"] != ' ']\n",
        "df[\"prediction\"] = df[\"prediction\"].apply(lambda x: 1 if x[0][\"label\"] == 'real' else 0)\n",
        "df.columns = [\"features\", \"label\"]\n",
        "# Add the dataset to the list\n",
        "DATASET.append(df)\n",
        "# Show\n",
        "df.head(5)"
      ]
    },
    {
      "cell_type": "code",
      "execution_count": null,
      "metadata": {},
      "outputs": [],
      "source": [
        "!rm *.parquet"
      ]
    },
    {
      "cell_type": "markdown",
      "metadata": {},
      "source": [
        "### Join all the data"
      ]
    },
    {
      "cell_type": "code",
      "execution_count": null,
      "metadata": {},
      "outputs": [],
      "source": [
        "df = pd.concat(DATASET, ignore_index=True)\n",
        "df = df.sample(frac=1).reset_index(drop=True) # Shuffle the dataset\n",
        "df.to_csv(\"train.csv\", index=False)\n",
        "del DATASET"
      ]
    },
    {
      "cell_type": "markdown",
      "metadata": {
        "id": "BPOjdos8yuPr"
      },
      "source": [
        "## Inspeccionar datos"
      ]
    },
    {
      "cell_type": "code",
      "execution_count": null,
      "metadata": {
        "colab": {
          "base_uri": "https://localhost:8080/",
          "height": 206
        },
        "id": "evNpSbVeyuPs",
        "outputId": "86460e6e-f786-4f72-b852-e0a929c87211"
      },
      "outputs": [],
      "source": [
        "df.head(5)"
      ]
    },
    {
      "cell_type": "code",
      "execution_count": null,
      "metadata": {
        "colab": {
          "base_uri": "https://localhost:8080/"
        },
        "id": "OmuowRWiyuPs",
        "outputId": "48ea296c-4a30-4779-89f8-20af101eae22"
      },
      "outputs": [],
      "source": [
        "df.info()"
      ]
    },
    {
      "cell_type": "markdown",
      "metadata": {
        "id": "-1nzgnNQyuPt"
      },
      "source": [
        "# Visualizacion del Dataset"
      ]
    },
    {
      "cell_type": "markdown",
      "metadata": {
        "id": "F2TSLYt9yuPt"
      },
      "source": [
        "## Dataset Balanceado"
      ]
    },
    {
      "cell_type": "code",
      "execution_count": null,
      "metadata": {
        "colab": {
          "base_uri": "https://localhost:8080/",
          "height": 546
        },
        "id": "vfwsz02syuPt",
        "outputId": "00a41b7b-ad6a-48bb-a149-24d040cda8ff"
      },
      "outputs": [],
      "source": [
        "## Librerias para graficación\n",
        "import matplotlib.pyplot as plt\n",
        "import seaborn as sns\n",
        "\n",
        "# Visualizamos si la data esta balanceada\n",
        "sns.catplot(x=\"label\", kind=\"count\", color=\"r\", data=df)\n",
        "plt.title(\"Distribución de Clasificación\")\n",
        "plt.xlabel(\"is True\")\n",
        "plt.ylabel(\"Conteo\")"
      ]
    },
    {
      "cell_type": "markdown",
      "metadata": {
        "id": "b31APXRLyuPu"
      },
      "source": [
        "# Pre-Procesado de los datos para NLP"
      ]
    },
    {
      "cell_type": "code",
      "execution_count": null,
      "metadata": {},
      "outputs": [],
      "source": [
        "df = pd.read_csv(\"train.csv\")\n",
        "\n",
        "# shuffle data\n",
        "df = df.sample(frac=1).reset_index(drop=True)"
      ]
    },
    {
      "cell_type": "code",
      "execution_count": null,
      "metadata": {},
      "outputs": [],
      "source": [
        "df[\"features\"][57072]"
      ]
    },
    {
      "cell_type": "code",
      "execution_count": null,
      "metadata": {},
      "outputs": [],
      "source": [
        "df[df[\"features\"].str.contains('http')]"
      ]
    },
    {
      "cell_type": "code",
      "execution_count": null,
      "metadata": {},
      "outputs": [],
      "source": [
        "import re\n",
        "from nltk.stem import WordNetLemmatizer\n",
        "from nltk.corpus import stopwords\n",
        "\n",
        "def decontract(text):\n",
        "    text = re.sub(r\"won\\'t\", \"will not\", text)\n",
        "    text = re.sub(r\"can\\'t\", \"can not\", text)\n",
        "    text = re.sub(r\"n\\'t\", \" not\", text)\n",
        "    text = re.sub(r\"\\'re\", \" are\", text)\n",
        "    text = re.sub(r\"\\'s\", \" is\", text)\n",
        "    text = re.sub(r\"\\'d\", \" would\", text)\n",
        "    text = re.sub(r\"\\'ll\", \" will\", text)\n",
        "    text = re.sub(r\"\\'t\", \" not\", text)\n",
        "    text = re.sub(r\"\\'ve\", \" have\", text)\n",
        "    text = re.sub(r\"\\'m\", \" am\", text)\n",
        "    return text\n",
        "\n",
        "def processing_text(texto):\n",
        "    \n",
        "    processed_feature = decontract(texto)\n",
        "    \n",
        "    # Regular expression to find URLs\n",
        "    regex_links = re.compile(r'https?://\\S+|www.\\S+', re.IGNORECASE)\n",
        "    processed_feature = regex_links.sub('', processed_feature) \n",
        "\n",
        "    # Regular expression to find Twitter handles\n",
        "    regex_handles = re.compile(r'\\(@\\w+\\)', re.IGNORECASE)\n",
        "    processed_feature = regex_handles.sub('', processed_feature)\n",
        "\n",
        "    # Remove special characters with a regular expression.\n",
        "    processed_feature = re.sub(r'[^a-zA-Z0-9 ]', '', str(processed_feature))\n",
        "    \n",
        "    # Remove numbers (very sporadic occurrences in our dataset)\n",
        "    processed_feature = re.sub(r'[0-9]+', ' ', processed_feature) \n",
        "    \n",
        "    # Convert all text to lowercase\n",
        "    processed_feature = processed_feature.lower() \n",
        "    \n",
        "    # Remove stop words and perform lemmatization\n",
        "    lemmatizer = WordNetLemmatizer()\n",
        "    stop_words = set(stopwords.words('english'))\n",
        "\n",
        "    processed_feature = processed_feature.split()\n",
        "    processed_feature = ' '.join([lemmatizer.lemmatize(word) for word in processed_feature if word not in stop_words])\n",
        "\n",
        "    # Remove occurrences of individual characters\n",
        "    processed_feature= re.sub(r'\\b[a-zA-Z]\\b', '', processed_feature) \n",
        "    \n",
        "    # Simplify consecutive spaces to a single space between words\n",
        "    processed_feature = re.sub(' +', ' ', processed_feature) \n",
        "    return processed_feature"
      ]
    },
    {
      "cell_type": "code",
      "execution_count": null,
      "metadata": {},
      "outputs": [],
      "source": [
        "df[\"features\"] = df[\"features\"].apply(processing_text)"
      ]
    },
    {
      "cell_type": "markdown",
      "metadata": {},
      "source": [
        "# Save the data"
      ]
    },
    {
      "cell_type": "code",
      "execution_count": null,
      "metadata": {},
      "outputs": [],
      "source": [
        "df.to_csv(\"features.csv\", index=False)"
      ]
    }
  ],
  "metadata": {
    "accelerator": "GPU",
    "colab": {
      "provenance": []
    },
    "kernelspec": {
      "display_name": "Python 3",
      "name": "python3"
    },
    "language_info": {
      "codemirror_mode": {
        "name": "ipython",
        "version": 3
      },
      "file_extension": ".py",
      "mimetype": "text/x-python",
      "name": "python",
      "nbconvert_exporter": "python",
      "pygments_lexer": "ipython3",
      "version": "3.11.2"
    }
  },
  "nbformat": 4,
  "nbformat_minor": 0
}
