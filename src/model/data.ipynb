{
  "cells": [
    {
      "cell_type": "markdown",
      "metadata": {
        "id": "rh1SOqFVyuPo"
      },
      "source": [
        "# Generate and Extract Dataset"
      ]
    },
    {
      "cell_type": "markdown",
      "metadata": {},
      "source": [
        "- Este notebook crea los archivos necesarios para `model.ipynb`.\n",
        "- Este notebook debe ser ejecutado primero.\n",
        "- Los archivos generados son:\n",
        "  - `vocab.json`: Diccionario de palabras. (Este archivo es requerido en el backend de la aplicación `./server`)\n",
        "  - `features.csv`: Dataset limpio y procesado. (Este archivo es requerido en el notebook `model.json`)"
      ]
    },
    {
      "cell_type": "markdown",
      "metadata": {
        "id": "juw3GXrVyuPp"
      },
      "source": [
        "## Load Datasets"
      ]
    },
    {
      "cell_type": "code",
      "execution_count": null,
      "metadata": {
        "id": "_Eh75So8yuPq"
      },
      "outputs": [],
      "source": [
        "import pandas as pd\n",
        "import numpy as np"
      ]
    },
    {
      "cell_type": "markdown",
      "metadata": {},
      "source": [
        "- **TRUE** : `1`\n",
        "- **FAKE** : `0`"
      ]
    },
    {
      "cell_type": "markdown",
      "metadata": {},
      "source": [
        "### [Fake News Dataset](https://data.mendeley.com/datasets/945z9xkc8d/1)"
      ]
    },
    {
      "cell_type": "code",
      "execution_count": null,
      "metadata": {},
      "outputs": [],
      "source": [
        "import os\n",
        "!curl -L \"https://prod-dcd-datasets-cache-zipfiles.s3.eu-west-1.amazonaws.com/945z9xkc8d-1.zip\" -o data.zip\n",
        "!unzip \"data.zip\" && unzip \"Fake News Dataset.zip\"\n",
        "!del -r *.zip\n",
        "\n",
        "main_directory = os.path.join(os.getcwd(),\"Fake News Dataset\")\n",
        "subdirectories = [x[0] for x in os.walk(main_directory)][1:]\n",
        "dataframes = []\n",
        "test = []\n",
        "# Itera a través de los subdirectorios y archivos train.csv\n",
        "for subdirectory in subdirectories:\n",
        "    file_path = os.path.join(subdirectory, \"train.csv\")\n",
        "    test_path = os.path.join(subdirectory, \"test.csv\")\n",
        "\n",
        "    # Verifica si el archivo train.csv existe en el subdirectorio\n",
        "    if os.path.exists(file_path):\n",
        "        data = pd.read_csv(file_path, sep=\";\")\n",
        "        dataframes.append(data)\n",
        "\n",
        "    if os.path.exists(test_path):\n",
        "        data = pd.read_csv(test_path, sep=\";\")\n",
        "        test.append(data)\n",
        "\n",
        "# Combina los DataFrames en uno solo\n",
        "train_data = pd.concat(dataframes, ignore_index=True)\n",
        "test_data = pd.concat(test,ignore_index=True)\n",
        "# Guarda el DataFrame combinado en un archivo train_combined.csv\n",
        "train_data.to_csv(\"train.csv\", index=False)\n",
        "test_data.to_csv(\"test.csv\", index=False)\n",
        "del train_data, test_data, test, dataframes, main_directory, subdirectories"
      ]
    },
    {
      "cell_type": "markdown",
      "metadata": {
        "id": "BPOjdos8yuPr"
      },
      "source": [
        "## Inspeccionar datos"
      ]
    },
    {
      "cell_type": "code",
      "execution_count": null,
      "metadata": {},
      "outputs": [],
      "source": [
        "df_train = pd.read_csv(\"train.csv\")\n",
        "df_test= pd.read_csv(\"test.csv\")\n",
        "df = pd.concat([df_train,df_test])\n",
        "# shuffle data\n",
        "df = df.sample(frac=1).reset_index(drop=True)"
      ]
    },
    {
      "cell_type": "code",
      "execution_count": null,
      "metadata": {
        "colab": {
          "base_uri": "https://localhost:8080/",
          "height": 206
        },
        "id": "evNpSbVeyuPs",
        "outputId": "86460e6e-f786-4f72-b852-e0a929c87211"
      },
      "outputs": [],
      "source": [
        "df_train"
      ]
    },
    {
      "cell_type": "code",
      "execution_count": null,
      "metadata": {
        "colab": {
          "base_uri": "https://localhost:8080/"
        },
        "id": "OmuowRWiyuPs",
        "outputId": "48ea296c-4a30-4779-89f8-20af101eae22"
      },
      "outputs": [],
      "source": [
        "df.info()"
      ]
    },
    {
      "cell_type": "markdown",
      "metadata": {
        "id": "-1nzgnNQyuPt"
      },
      "source": [
        "# Visualizacion del Dataset"
      ]
    },
    {
      "cell_type": "markdown",
      "metadata": {
        "id": "F2TSLYt9yuPt"
      },
      "source": [
        "## Dataset Balanceado"
      ]
    },
    {
      "cell_type": "code",
      "execution_count": null,
      "metadata": {
        "colab": {
          "base_uri": "https://localhost:8080/",
          "height": 546
        },
        "id": "vfwsz02syuPt",
        "outputId": "00a41b7b-ad6a-48bb-a149-24d040cda8ff"
      },
      "outputs": [],
      "source": [
        "## Librerias para graficación\n",
        "import matplotlib.pyplot as plt\n",
        "import seaborn as sns\n",
        "\n",
        "# Visualizamos si la data esta balanceada\n",
        "sns.catplot(x=\"label\", kind=\"count\", color=\"r\", data=df)\n",
        "plt.title(\"Distribución de Clasificación\")\n",
        "plt.xlabel(\"(0) is true, (1) is false\")\n",
        "plt.ylabel(\"Conteo\")"
      ]
    },
    {
      "cell_type": "markdown",
      "metadata": {
        "id": "_q19AWaRyuPt"
      },
      "source": [
        "## Word Cloud de los titulares de las *Fake News*"
      ]
    },
    {
      "cell_type": "code",
      "execution_count": null,
      "metadata": {
        "colab": {
          "base_uri": "https://localhost:8080/",
          "height": 836
        },
        "id": "hFcVvnP8yuPt",
        "outputId": "c2257bad-f995-4326-eabe-da326ddc2bff"
      },
      "outputs": [],
      "source": [
        "# importing all necessary modules\n",
        "from wordcloud import WordCloud, STOPWORDS\n",
        "comment_words = \"\"\n",
        "stopwords = set(STOPWORDS)\n",
        "# Recorrer el dataframe\n",
        "for val in df[df[\"label\"] == 0][\"text\"][:100]:\n",
        "    # Castear cada palabra a string\n",
        "    val = str(val)\n",
        "    # Separamos por palabra\n",
        "    tokens = val.split()\n",
        "    # Pasamos a minusculas\n",
        "    for i in range(len(tokens)):\n",
        "        tokens[i] = tokens[i].lower()\n",
        "    comment_words += \" \".join(tokens) + \" \"\n",
        "wordcloud = WordCloud(\n",
        "    width=800,\n",
        "    height=800,\n",
        "    background_color=\"white\",\n",
        "    stopwords=stopwords,\n",
        "    min_font_size=10,\n",
        ").generate(comment_words)\n",
        "# Generamos el plot\n",
        "plt.figure(figsize=(8, 8), facecolor=None)\n",
        "plt.imshow(wordcloud)\n",
        "plt.axis(\"off\")\n",
        "plt.tight_layout(pad=0)\n",
        "plt.show()"
      ]
    },
    {
      "cell_type": "code",
      "execution_count": null,
      "metadata": {},
      "outputs": [],
      "source": [
        "# importing all necessary modules\n",
        "from wordcloud import WordCloud, STOPWORDS\n",
        "comment_words = \"\"\n",
        "stopwords = set(STOPWORDS)\n",
        "# Recorrer el dataframe\n",
        "for val in df[df[\"label\"] == 1][\"text\"][:100]:\n",
        "    # Castear cada palabra a string\n",
        "    val = str(val)\n",
        "    # Separamos por palabra\n",
        "    tokens = val.split()\n",
        "    # Pasamos a minusculas\n",
        "    for i in range(len(tokens)):\n",
        "        tokens[i] = tokens[i].lower()\n",
        "    comment_words += \" \".join(tokens) + \" \"\n",
        "wordcloud = WordCloud(\n",
        "    width=800,\n",
        "    height=800,\n",
        "    background_color=\"white\",\n",
        "    stopwords=stopwords,\n",
        "    min_font_size=10,\n",
        ").generate(comment_words)\n",
        "# Generamos el plot\n",
        "plt.figure(figsize=(8, 8), facecolor=None)\n",
        "plt.imshow(wordcloud)\n",
        "plt.axis(\"off\")\n",
        "plt.tight_layout(pad=0)\n",
        "plt.show()"
      ]
    },
    {
      "cell_type": "markdown",
      "metadata": {
        "id": "b31APXRLyuPu"
      },
      "source": [
        "# Pre-Procesado de los datos para NLP"
      ]
    },
    {
      "cell_type": "code",
      "execution_count": null,
      "metadata": {},
      "outputs": [],
      "source": [
        "df.columns = [\"features\", \"label\"]"
      ]
    },
    {
      "cell_type": "code",
      "execution_count": null,
      "metadata": {},
      "outputs": [],
      "source": [
        "import re\n",
        "from nltk.stem import WordNetLemmatizer\n",
        "from nltk.corpus import stopwords\n",
        "\n",
        "def decontract(text):\n",
        "    text = re.sub(r\"won\\'t\", \"will not\", text)\n",
        "    text = re.sub(r\"can\\'t\", \"can not\", text)\n",
        "    text = re.sub(r\"n\\'t\", \" not\", text)\n",
        "    text = re.sub(r\"\\'re\", \" are\", text)\n",
        "    text = re.sub(r\"\\'s\", \" is\", text)\n",
        "    text = re.sub(r\"\\'d\", \" would\", text)\n",
        "    text = re.sub(r\"\\'ll\", \" will\", text)\n",
        "    text = re.sub(r\"\\'t\", \" not\", text)\n",
        "    text = re.sub(r\"\\'ve\", \" have\", text)\n",
        "    text = re.sub(r\"\\'m\", \" am\", text)\n",
        "    return text\n",
        "\n",
        "def processing_text(texto):\n",
        "    \n",
        "    processed_feature = decontract(texto)\n",
        "    \n",
        "    # Expresión regular para encontrar enlaces\n",
        "    regex_enlaces = re.compile(r'https?://\\S+|www.\\S+', re.IGNORECASE)\n",
        "    processed_feature = regex_enlaces.sub('', processed_feature) \n",
        "\n",
        "    # Remover con un expresión regular carateres especiales (no palabras).\n",
        "    processed_feature = re.sub(r'[^a-zA-Z0-9 ]', '', str(processed_feature))\n",
        "    \n",
        "    # Remover números (Ocurrencias muy esporádicas en nuestro dataset)\n",
        "    processed_feature = re.sub(r'[0-9]+', ' ', processed_feature) \n",
        "    \n",
        "    # Pasar todo el texto a minúsculas\n",
        "    processed_feature = processed_feature.lower() \n",
        "    \n",
        "    # Eliminar Stop words y realizar la lemmatizacion\n",
        "    lemmatizer = WordNetLemmatizer()\n",
        "    stop_words = set(stopwords.words('english'))\n",
        "\n",
        "    processed_feature = processed_feature.split()\n",
        "    processed_feature = ' '.join([lemmatizer.lemmatize(word) for word in processed_feature if word not in stop_words])\n",
        "\n",
        "    # Remover ocurrencias de caracteres individuales\n",
        "    processed_feature= re.sub(r'\\b[a-zA-Z]\\b', '', processed_feature) \n",
        "    \n",
        "    # Simplificar espacios concecutivos a un único espacio entre palabras\n",
        "    processed_feature = re.sub(' +', ' ', processed_feature) \n",
        "    return processed_feature"
      ]
    },
    {
      "cell_type": "code",
      "execution_count": null,
      "metadata": {},
      "outputs": [],
      "source": [
        "# Aplicamos la función de preprocesamiento a todo el dataset\n",
        "df[\"features\"] = df[\"features\"].apply(processing_text)"
      ]
    },
    {
      "cell_type": "markdown",
      "metadata": {},
      "source": [
        "# Save the data"
      ]
    },
    {
      "cell_type": "code",
      "execution_count": null,
      "metadata": {},
      "outputs": [],
      "source": [
        "!del *.csv\n",
        "df.to_csv(\"features.csv\", index=False) # index false means we don't want to save the index column"
      ]
    }
  ],
  "metadata": {
    "accelerator": "GPU",
    "colab": {
      "provenance": []
    },
    "kernelspec": {
      "display_name": "Python 3",
      "name": "python3"
    },
    "language_info": {
      "codemirror_mode": {
        "name": "ipython",
        "version": 3
      },
      "file_extension": ".py",
      "mimetype": "text/x-python",
      "name": "python",
      "nbconvert_exporter": "python",
      "pygments_lexer": "ipython3",
      "version": "3.11.6"
    }
  },
  "nbformat": 4,
  "nbformat_minor": 0
}
