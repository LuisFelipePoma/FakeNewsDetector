{
  "cells": [
    {
      "cell_type": "code",
      "execution_count": 1,
      "metadata": {
        "colab": {
          "base_uri": "https://localhost:8080/",
          "height": 355,
          "referenced_widgets": [
            "2185ee7061f642eeb06db616a7e14aa8",
            "36685f9e521141759e93198fd6711bfe",
            "157b5f35f09a47af9a951529d620fa5e",
            "d5ab7fe02f734c2c918cedf77a41ccbc",
            "81cbcf0512034c84b6296df7989783be",
            "b7382d2affd6428db05b6d2f02ba4609",
            "09cf5f7f90034271970477290ac30fce",
            "b5b7cfbe19164449a79be3188cedb380",
            "a127483b1e0e4f3796eb9a5be0fd71e8",
            "6bb87c5006874b3b85da7884348441c5",
            "5a94e36a8ea54168add8ddfb33eb85eb"
          ]
        },
        "id": "UKiy0uXS0DAl",
        "outputId": "3b52aa78-fd45-4f74-e53f-5c18908010e6"
      },
      "outputs": [
        {
          "name": "stderr",
          "output_type": "stream",
          "text": [
            "d:\\Codes\\IA-Project\\.env\\Lib\\site-packages\\tqdm\\auto.py:21: TqdmWarning: IProgress not found. Please update jupyter and ipywidgets. See https://ipywidgets.readthedocs.io/en/stable/user_install.html\n",
            "  from .autonotebook import tqdm as notebook_tqdm\n"
          ]
        },
        {
          "name": "stdout",
          "output_type": "stream",
          "text": [
            "\u001b[1mDownloading and preparing dataset Unknown size (download: Unknown size, generated: Unknown size, total: Unknown size) to C:\\Users\\pms_l\\tensorflow_datasets\\mnist\\3.0.1...\u001b[0m\n"
          ]
        },
        {
          "name": "stderr",
          "output_type": "stream",
          "text": [
            "Dl Completed...: 0 url [00:00, ? url/s]\n",
            "Dl Completed...:   0%|          | 0/1 [00:00<?, ? url/s]\n",
            "Dl Completed...:   0%|          | 0/2 [00:00<?, ? url/s]\n",
            "Dl Completed...:   0%|          | 0/3 [00:00<?, ? url/s]\n",
            "Dl Completed...:   0%|          | 0/4 [00:00<?, ? url/s]\n",
            "Dl Completed...:   0%|          | 0/4 [00:01<?, ? url/s]\n",
            "Dl Completed...:  25%|██▌       | 1/4 [00:01<00:05,  1.71s/ url]\n",
            "Dl Completed...:  25%|██▌       | 1/4 [00:01<00:05,  1.71s/ url]\n",
            "Dl Completed...:  25%|██▌       | 1/4 [00:01<00:05,  1.71s/ url]\n",
            "Dl Completed...:  25%|██▌       | 1/4 [00:01<00:05,  1.71s/ url]\n",
            "Dl Completed...:  25%|██▌       | 1/4 [00:01<00:05,  1.71s/ url]\n",
            "\u001b[A\n",
            "Dl Completed...:  25%|██▌       | 1/4 [00:01<00:05,  1.71s/ url]\n",
            "Dl Completed...:  50%|█████     | 2/4 [00:01<00:03,  1.71s/ url]\n",
            "Dl Completed...:  50%|█████     | 2/4 [00:01<00:03,  1.71s/ url]\n",
            "Dl Completed...:  50%|█████     | 2/4 [00:01<00:03,  1.71s/ url]\n",
            "Dl Completed...:  50%|█████     | 2/4 [00:02<00:03,  1.71s/ url]\n",
            "Dl Completed...:  50%|█████     | 2/4 [00:02<00:03,  1.71s/ url]\n",
            "Dl Completed...:  75%|███████▌  | 3/4 [00:02<00:01,  1.71s/ url]\n",
            "Dl Completed...:  75%|███████▌  | 3/4 [00:02<00:01,  1.71s/ url]\n",
            "Dl Completed...:  75%|███████▌  | 3/4 [00:02<00:01,  1.71s/ url]\n",
            "\u001b[A\n",
            "Dl Completed...:  75%|███████▌  | 3/4 [00:02<00:01,  1.71s/ url]\n",
            "Dl Completed...:  75%|███████▌  | 3/4 [00:02<00:01,  1.71s/ url]\n",
            "Dl Completed...:  75%|███████▌  | 3/4 [00:02<00:01,  1.71s/ url]\n",
            "Dl Completed...:  75%|███████▌  | 3/4 [00:03<00:01,  1.71s/ url]\n",
            "Dl Completed...:  75%|███████▌  | 3/4 [00:03<00:01,  1.71s/ url]\n",
            "Dl Completed...:  75%|███████▌  | 3/4 [00:03<00:01,  1.71s/ url]\n",
            "Dl Completed...:  75%|███████▌  | 3/4 [00:03<00:01,  1.71s/ url]\n",
            "Dl Completed...:  75%|███████▌  | 3/4 [00:03<00:01,  1.71s/ url]\n",
            "Dl Completed...: 100%|██████████| 4/4 [00:03<00:00,  1.36 url/s]\n",
            "Dl Completed...: 100%|██████████| 4/4 [00:03<00:00,  1.36 url/s]\n",
            "Dl Completed...: 100%|██████████| 4/4 [00:03<00:00,  1.36 url/s]\n",
            "Extraction completed...: 100%|██████████| 4/4 [00:03<00:00,  1.11 file/s]\n",
            "Dl Size...: 100%|██████████| 10/10 [00:03<00:00,  2.78 MiB/s]\n",
            "Dl Completed...: 100%|██████████| 4/4 [00:03<00:00,  1.11 url/s]\n",
            "                                                                        \r"
          ]
        },
        {
          "name": "stdout",
          "output_type": "stream",
          "text": [
            "\u001b[1mDataset mnist downloaded and prepared to C:\\Users\\pms_l\\tensorflow_datasets\\mnist\\3.0.1. Subsequent calls will reuse this data.\u001b[0m\n",
            "Epoch 1/5\n",
            "1875/1875 [==============================] - 29s 14ms/step - loss: 0.2891 - accuracy: 0.9101\n",
            "Epoch 2/5\n",
            "1875/1875 [==============================] - 23s 12ms/step - loss: 0.1100 - accuracy: 0.9669\n",
            "Epoch 3/5\n",
            "1875/1875 [==============================] - 23s 13ms/step - loss: 0.0862 - accuracy: 0.9740\n",
            "Epoch 4/5\n",
            "1875/1875 [==============================] - 24s 13ms/step - loss: 0.0721 - accuracy: 0.9790\n",
            "Epoch 5/5\n",
            "1875/1875 [==============================] - 25s 13ms/step - loss: 0.0647 - accuracy: 0.9811\n"
          ]
        }
      ],
      "source": [
        "import tensorflow as tf\n",
        "import tensorflow_datasets as tfds\n",
        "\n",
        "#Descargar set de datos de MNIST (Numeros escritos a mano, etiquetados)\n",
        "datos, metadatos = tfds.load('mnist', as_supervised=True, with_info=True)\n",
        "\n",
        "#Obtenemos en variables separadas los datos de entrenamiento (60k) y pruebas (10k)\n",
        "datos_entrenamiento, datos_pruebas = datos['train'], datos['test']\n",
        "\n",
        "#Etiquetas de las 10 categorias posibles (simplemente son los numeros del 0 al 9)\n",
        "nombres_clases = metadatos.features['label'].names\n",
        "\n",
        "#Funcion de normalizacion para los datos (Pasar valor de los pixeles de 0-255 a 0-1)\n",
        "#Hace que la red aprenda mejor y mas rapido\n",
        "def normalizar(imagenes, etiquetas):\n",
        "  imagenes = tf.cast(imagenes, tf.float32)\n",
        "  imagenes /= 255 #Aqui lo pasa de 0-255 a 0-1\n",
        "  return imagenes, etiquetas\n",
        "\n",
        "#Normalizar los datos de entrenamiento y pruebas con la funcion que hicimos\n",
        "datos_entrenamiento = datos_entrenamiento.map(normalizar)\n",
        "datos_pruebas = datos_pruebas.map(normalizar)\n",
        "\n",
        "#Agregar a cache (usar memoria en lugar de disco, entrenamiento mas rapido)\n",
        "datos_entrenamiento = datos_entrenamiento.cache()\n",
        "datos_pruebas = datos_pruebas.cache()\n",
        "\n",
        "#Crear el modelo\n",
        "modelo = tf.keras.Sequential([\n",
        "    tf.keras.layers.Conv2D(32, (3,3), activation='relu', input_shape=(28, 28, 1)),\n",
        "    tf.keras.layers.MaxPooling2D(2, 2),\n",
        "\n",
        "    tf.keras.layers.Conv2D(64, (3,3), activation='relu'),\n",
        "    tf.keras.layers.MaxPooling2D(2,2),\n",
        "\n",
        "    tf.keras.layers.Conv2D(128, (3,3), activation='relu'),\n",
        "    tf.keras.layers.MaxPooling2D(2,2),\n",
        "\n",
        "    tf.keras.layers.Dropout(0.5),\n",
        "    tf.keras.layers.Flatten(),\n",
        "    tf.keras.layers.Dense(512, activation='relu'),\n",
        "    tf.keras.layers.Dense(10, activation=tf.nn.softmax) #Para redes de clasificacion\n",
        "])\n",
        "\n",
        "#Compilar el modelo\n",
        "modelo.compile(\n",
        "    optimizer='adam',\n",
        "    loss=tf.keras.losses.SparseCategoricalCrossentropy(),\n",
        "    metrics=['accuracy']\n",
        ")\n",
        "\n",
        "#Los numeros de datos en entrenamiento y pruebas (60k y 10k)\n",
        "num_ej_entrenamiento = metadatos.splits[\"train\"].num_examples\n",
        "num_ej_pruebas = metadatos.splits[\"test\"].num_examples\n",
        "\n",
        "#El trabajo por lotes permite que entrenamientos con gran cantidad de datos se haga de manera mas eficiente\n",
        "TAMANO_LOTE = 32\n",
        "\n",
        "#Shuffle y repeat hacen que los datos esten mezclados de manera aleatoria para que la red\n",
        "#no se vaya a aprender el orden de las cosas\n",
        "datos_entrenamiento = datos_entrenamiento.repeat().shuffle(num_ej_entrenamiento).batch(TAMANO_LOTE)\n",
        "datos_pruebas = datos_pruebas.batch(TAMANO_LOTE)\n",
        "\n",
        "import math\n",
        "\n",
        "#Entrenar\n",
        "historial = modelo.fit(datos_entrenamiento, epochs=5, steps_per_epoch= math.ceil(num_ej_entrenamiento/TAMANO_LOTE))"
      ]
    },
    {
      "cell_type": "code",
      "execution_count": 12,
      "metadata": {
        "id": "SbWANbBY0HwV"
      },
      "outputs": [
        {
          "name": "stderr",
          "output_type": "stream",
          "text": [
            "d:\\Codes\\IA-Project\\.env\\Lib\\site-packages\\keras\\src\\engine\\training.py:3000: UserWarning: You are saving your model as an HDF5 file via `model.save()`. This file format is considered legacy. We recommend using instead the native Keras format, e.g. `model.save('my_model.keras')`.\n",
            "  saving_api.save_model(\n"
          ]
        }
      ],
      "source": [
        "#Exportar el modelo en formato h5\n",
        "modelo.save('model.h5')"
      ]
    },
    {
      "cell_type": "code",
      "execution_count": 3,
      "metadata": {
        "colab": {
          "base_uri": "https://localhost:8080/"
        },
        "id": "sQAZngWl0Tej",
        "outputId": "a1d95049-250f-41ab-a408-5f0c390a844c"
      },
      "outputs": [
        {
          "name": "stderr",
          "output_type": "stream",
          "text": [
            "'ls' is not recognized as an internal or external command,\n",
            "operable program or batch file.\n"
          ]
        }
      ],
      "source": [
        "#El equipo es Linux. Listemos el contenido de la carpeta actual para ver que se exporto el modelo\n",
        "!ls"
      ]
    },
    {
      "cell_type": "code",
      "execution_count": 4,
      "metadata": {
        "colab": {
          "base_uri": "https://localhost:8080/"
        },
        "id": "98lI3-Xe0UJ7",
        "outputId": "4ccb715d-e377-404e-f236-80ee5d082577"
      },
      "outputs": [],
      "source": [
        "#Para convertirlo a tensorflow.js, primero debemos instalar la libreria\n",
        "# !pip install tensorflowjs"
      ]
    },
    {
      "cell_type": "code",
      "execution_count": 5,
      "metadata": {
        "id": "o2QUAgWK0Wab"
      },
      "outputs": [],
      "source": [
        "#Crear carpeta donde se colocaran los archivos resultantes\n",
        "!mkdir carpeta_out"
      ]
    },
    {
      "cell_type": "code",
      "execution_count": 14,
      "metadata": {
        "id": "I0lqDZzA0euM"
      },
      "outputs": [
        {
          "name": "stderr",
          "output_type": "stream",
          "text": [
            "Traceback (most recent call last):\n",
            "  File \"<frozen runpy>\", line 198, in _run_module_as_main\n",
            "  File \"<frozen runpy>\", line 88, in _run_code\n",
            "  File \"d:\\Codes\\IA-Project\\.env\\Scripts\\tensorflowjs_converter.exe\\__main__.py\", line 4, in <module>\n",
            "  File \"D:\\Codes\\IA-Project\\.env\\Lib\\site-packages\\tensorflowjs\\__init__.py\", line 21, in <module>\n",
            "    from tensorflowjs import converters\n",
            "  File \"D:\\Codes\\IA-Project\\.env\\Lib\\site-packages\\tensorflowjs\\converters\\__init__.py\", line 21, in <module>\n",
            "    from tensorflowjs.converters.converter import convert\n",
            "  File \"D:\\Codes\\IA-Project\\.env\\Lib\\site-packages\\tensorflowjs\\converters\\converter.py\", line 37, in <module>\n",
            "    from tensorflowjs.converters import tf_saved_model_conversion_v2\n",
            "  File \"D:\\Codes\\IA-Project\\.env\\Lib\\site-packages\\tensorflowjs\\converters\\tf_saved_model_conversion_v2.py\", line 42, in <module>\n",
            "    import tensorflow_hub as hub\n",
            "  File \"D:\\Codes\\IA-Project\\.env\\Lib\\site-packages\\tensorflow_hub\\__init__.py\", line 93, in <module>\n",
            "    from tensorflow_hub.feature_column_v2 import text_embedding_column_v2\n",
            "  File \"D:\\Codes\\IA-Project\\.env\\Lib\\site-packages\\tensorflow_hub\\feature_column_v2.py\", line 24, in <module>\n",
            "    from tensorflow_hub import keras_layer\n",
            "  File \"D:\\Codes\\IA-Project\\.env\\Lib\\site-packages\\tensorflow_hub\\keras_layer.py\", line 27, in <module>\n",
            "    from tensorflow.python.training.tracking import data_structures\n",
            "ModuleNotFoundError: No module named 'tensorflow.python.training.tracking'\n"
          ]
        }
      ],
      "source": [
        "#Realizar la exportacion a la carpeta de salida\n",
        "!tensorflowjs_converter --input_format keras model.h5 carpeta_out"
      ]
    },
    {
      "cell_type": "code",
      "execution_count": 7,
      "metadata": {
        "colab": {
          "base_uri": "https://localhost:8080/"
        },
        "id": "stKAnLBf0h0M",
        "outputId": "2c1d2634-663e-4cc7-c8c1-c71829b547f2"
      },
      "outputs": [
        {
          "name": "stderr",
          "output_type": "stream",
          "text": [
            "'ls' is not recognized as an internal or external command,\n",
            "operable program or batch file.\n"
          ]
        }
      ],
      "source": [
        "#Confirmar que en la carpeta de salida se hayan generado los archivos. Deben aparecer archivos \"bin\" y \"json\"\n",
        "!ls carpeta_out"
      ]
    },
    {
      "cell_type": "code",
      "execution_count": null,
      "metadata": {
        "id": "OSEvXd_i0qZj"
      },
      "outputs": [],
      "source": [
        "#Para descargarlos, da clic del lado izquierdo en el icono de la carpeta\n",
        "#y expande carpeta_salida. En los archivos utiliza los 3 puntos para descargarlos"
      ]
    }
  ],
  "metadata": {
    "colab": {
      "name": "Exportar_Modelo_MNIST_a_HTML.ipynb",
      "provenance": []
    },
    "kernelspec": {
      "display_name": "Python 3",
      "name": "python3"
    },
    "language_info": {
      "codemirror_mode": {
        "name": "ipython",
        "version": 3
      },
      "file_extension": ".py",
      "mimetype": "text/x-python",
      "name": "python",
      "nbconvert_exporter": "python",
      "pygments_lexer": "ipython3",
      "version": "3.11.6"
    },
    "widgets": {
      "application/vnd.jupyter.widget-state+json": {
        "09cf5f7f90034271970477290ac30fce": {
          "model_module": "@jupyter-widgets/base",
          "model_module_version": "1.2.0",
          "model_name": "LayoutModel",
          "state": {
            "_model_module": "@jupyter-widgets/base",
            "_model_module_version": "1.2.0",
            "_model_name": "LayoutModel",
            "_view_count": null,
            "_view_module": "@jupyter-widgets/base",
            "_view_module_version": "1.2.0",
            "_view_name": "LayoutView",
            "align_content": null,
            "align_items": null,
            "align_self": null,
            "border": null,
            "bottom": null,
            "display": null,
            "flex": null,
            "flex_flow": null,
            "grid_area": null,
            "grid_auto_columns": null,
            "grid_auto_flow": null,
            "grid_auto_rows": null,
            "grid_column": null,
            "grid_gap": null,
            "grid_row": null,
            "grid_template_areas": null,
            "grid_template_columns": null,
            "grid_template_rows": null,
            "height": null,
            "justify_content": null,
            "justify_items": null,
            "left": null,
            "margin": null,
            "max_height": null,
            "max_width": null,
            "min_height": null,
            "min_width": null,
            "object_fit": null,
            "object_position": null,
            "order": null,
            "overflow": null,
            "overflow_x": null,
            "overflow_y": null,
            "padding": null,
            "right": null,
            "top": null,
            "visibility": null,
            "width": null
          }
        },
        "157b5f35f09a47af9a951529d620fa5e": {
          "model_module": "@jupyter-widgets/controls",
          "model_module_version": "1.5.0",
          "model_name": "HTMLModel",
          "state": {
            "_dom_classes": [],
            "_model_module": "@jupyter-widgets/controls",
            "_model_module_version": "1.5.0",
            "_model_name": "HTMLModel",
            "_view_count": null,
            "_view_module": "@jupyter-widgets/controls",
            "_view_module_version": "1.5.0",
            "_view_name": "HTMLView",
            "description": "",
            "description_tooltip": null,
            "layout": "IPY_MODEL_09cf5f7f90034271970477290ac30fce",
            "placeholder": "​",
            "style": "IPY_MODEL_b7382d2affd6428db05b6d2f02ba4609",
            "value": "Dl Completed...: 100%"
          }
        },
        "2185ee7061f642eeb06db616a7e14aa8": {
          "model_module": "@jupyter-widgets/controls",
          "model_module_version": "1.5.0",
          "model_name": "HBoxModel",
          "state": {
            "_dom_classes": [],
            "_model_module": "@jupyter-widgets/controls",
            "_model_module_version": "1.5.0",
            "_model_name": "HBoxModel",
            "_view_count": null,
            "_view_module": "@jupyter-widgets/controls",
            "_view_module_version": "1.5.0",
            "_view_name": "HBoxView",
            "box_style": "",
            "children": [
              "IPY_MODEL_157b5f35f09a47af9a951529d620fa5e",
              "IPY_MODEL_d5ab7fe02f734c2c918cedf77a41ccbc",
              "IPY_MODEL_81cbcf0512034c84b6296df7989783be"
            ],
            "layout": "IPY_MODEL_36685f9e521141759e93198fd6711bfe"
          }
        },
        "36685f9e521141759e93198fd6711bfe": {
          "model_module": "@jupyter-widgets/base",
          "model_module_version": "1.2.0",
          "model_name": "LayoutModel",
          "state": {
            "_model_module": "@jupyter-widgets/base",
            "_model_module_version": "1.2.0",
            "_model_name": "LayoutModel",
            "_view_count": null,
            "_view_module": "@jupyter-widgets/base",
            "_view_module_version": "1.2.0",
            "_view_name": "LayoutView",
            "align_content": null,
            "align_items": null,
            "align_self": null,
            "border": null,
            "bottom": null,
            "display": null,
            "flex": null,
            "flex_flow": null,
            "grid_area": null,
            "grid_auto_columns": null,
            "grid_auto_flow": null,
            "grid_auto_rows": null,
            "grid_column": null,
            "grid_gap": null,
            "grid_row": null,
            "grid_template_areas": null,
            "grid_template_columns": null,
            "grid_template_rows": null,
            "height": null,
            "justify_content": null,
            "justify_items": null,
            "left": null,
            "margin": null,
            "max_height": null,
            "max_width": null,
            "min_height": null,
            "min_width": null,
            "object_fit": null,
            "object_position": null,
            "order": null,
            "overflow": null,
            "overflow_x": null,
            "overflow_y": null,
            "padding": null,
            "right": null,
            "top": null,
            "visibility": null,
            "width": null
          }
        },
        "5a94e36a8ea54168add8ddfb33eb85eb": {
          "model_module": "@jupyter-widgets/base",
          "model_module_version": "1.2.0",
          "model_name": "LayoutModel",
          "state": {
            "_model_module": "@jupyter-widgets/base",
            "_model_module_version": "1.2.0",
            "_model_name": "LayoutModel",
            "_view_count": null,
            "_view_module": "@jupyter-widgets/base",
            "_view_module_version": "1.2.0",
            "_view_name": "LayoutView",
            "align_content": null,
            "align_items": null,
            "align_self": null,
            "border": null,
            "bottom": null,
            "display": null,
            "flex": null,
            "flex_flow": null,
            "grid_area": null,
            "grid_auto_columns": null,
            "grid_auto_flow": null,
            "grid_auto_rows": null,
            "grid_column": null,
            "grid_gap": null,
            "grid_row": null,
            "grid_template_areas": null,
            "grid_template_columns": null,
            "grid_template_rows": null,
            "height": null,
            "justify_content": null,
            "justify_items": null,
            "left": null,
            "margin": null,
            "max_height": null,
            "max_width": null,
            "min_height": null,
            "min_width": null,
            "object_fit": null,
            "object_position": null,
            "order": null,
            "overflow": null,
            "overflow_x": null,
            "overflow_y": null,
            "padding": null,
            "right": null,
            "top": null,
            "visibility": null,
            "width": null
          }
        },
        "6bb87c5006874b3b85da7884348441c5": {
          "model_module": "@jupyter-widgets/controls",
          "model_module_version": "1.5.0",
          "model_name": "DescriptionStyleModel",
          "state": {
            "_model_module": "@jupyter-widgets/controls",
            "_model_module_version": "1.5.0",
            "_model_name": "DescriptionStyleModel",
            "_view_count": null,
            "_view_module": "@jupyter-widgets/base",
            "_view_module_version": "1.2.0",
            "_view_name": "StyleView",
            "description_width": ""
          }
        },
        "81cbcf0512034c84b6296df7989783be": {
          "model_module": "@jupyter-widgets/controls",
          "model_module_version": "1.5.0",
          "model_name": "HTMLModel",
          "state": {
            "_dom_classes": [],
            "_model_module": "@jupyter-widgets/controls",
            "_model_module_version": "1.5.0",
            "_model_name": "HTMLModel",
            "_view_count": null,
            "_view_module": "@jupyter-widgets/controls",
            "_view_module_version": "1.5.0",
            "_view_name": "HTMLView",
            "description": "",
            "description_tooltip": null,
            "layout": "IPY_MODEL_5a94e36a8ea54168add8ddfb33eb85eb",
            "placeholder": "​",
            "style": "IPY_MODEL_6bb87c5006874b3b85da7884348441c5",
            "value": " 4/4 [00:00&lt;00:00, 10.82 file/s]"
          }
        },
        "a127483b1e0e4f3796eb9a5be0fd71e8": {
          "model_module": "@jupyter-widgets/base",
          "model_module_version": "1.2.0",
          "model_name": "LayoutModel",
          "state": {
            "_model_module": "@jupyter-widgets/base",
            "_model_module_version": "1.2.0",
            "_model_name": "LayoutModel",
            "_view_count": null,
            "_view_module": "@jupyter-widgets/base",
            "_view_module_version": "1.2.0",
            "_view_name": "LayoutView",
            "align_content": null,
            "align_items": null,
            "align_self": null,
            "border": null,
            "bottom": null,
            "display": null,
            "flex": null,
            "flex_flow": null,
            "grid_area": null,
            "grid_auto_columns": null,
            "grid_auto_flow": null,
            "grid_auto_rows": null,
            "grid_column": null,
            "grid_gap": null,
            "grid_row": null,
            "grid_template_areas": null,
            "grid_template_columns": null,
            "grid_template_rows": null,
            "height": null,
            "justify_content": null,
            "justify_items": null,
            "left": null,
            "margin": null,
            "max_height": null,
            "max_width": null,
            "min_height": null,
            "min_width": null,
            "object_fit": null,
            "object_position": null,
            "order": null,
            "overflow": null,
            "overflow_x": null,
            "overflow_y": null,
            "padding": null,
            "right": null,
            "top": null,
            "visibility": null,
            "width": null
          }
        },
        "b5b7cfbe19164449a79be3188cedb380": {
          "model_module": "@jupyter-widgets/controls",
          "model_module_version": "1.5.0",
          "model_name": "ProgressStyleModel",
          "state": {
            "_model_module": "@jupyter-widgets/controls",
            "_model_module_version": "1.5.0",
            "_model_name": "ProgressStyleModel",
            "_view_count": null,
            "_view_module": "@jupyter-widgets/base",
            "_view_module_version": "1.2.0",
            "_view_name": "StyleView",
            "bar_color": null,
            "description_width": ""
          }
        },
        "b7382d2affd6428db05b6d2f02ba4609": {
          "model_module": "@jupyter-widgets/controls",
          "model_module_version": "1.5.0",
          "model_name": "DescriptionStyleModel",
          "state": {
            "_model_module": "@jupyter-widgets/controls",
            "_model_module_version": "1.5.0",
            "_model_name": "DescriptionStyleModel",
            "_view_count": null,
            "_view_module": "@jupyter-widgets/base",
            "_view_module_version": "1.2.0",
            "_view_name": "StyleView",
            "description_width": ""
          }
        },
        "d5ab7fe02f734c2c918cedf77a41ccbc": {
          "model_module": "@jupyter-widgets/controls",
          "model_module_version": "1.5.0",
          "model_name": "FloatProgressModel",
          "state": {
            "_dom_classes": [],
            "_model_module": "@jupyter-widgets/controls",
            "_model_module_version": "1.5.0",
            "_model_name": "FloatProgressModel",
            "_view_count": null,
            "_view_module": "@jupyter-widgets/controls",
            "_view_module_version": "1.5.0",
            "_view_name": "ProgressView",
            "bar_style": "success",
            "description": "",
            "description_tooltip": null,
            "layout": "IPY_MODEL_a127483b1e0e4f3796eb9a5be0fd71e8",
            "max": 4,
            "min": 0,
            "orientation": "horizontal",
            "style": "IPY_MODEL_b5b7cfbe19164449a79be3188cedb380",
            "value": 4
          }
        }
      }
    }
  },
  "nbformat": 4,
  "nbformat_minor": 0
}
